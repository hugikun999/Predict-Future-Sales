{
 "cells": [
  {
   "cell_type": "markdown",
   "metadata": {
    "_uuid": "d7396efb3a93915ad52b65601b4ee167476ada2d"
   },
   "source": [
    "# Load the data"
   ]
  },
  {
   "cell_type": "code",
   "execution_count": 3,
   "metadata": {
    "_uuid": "50d6de7d338002b358397845fb15f490f224b37a"
   },
   "outputs": [],
   "source": [
    "import pandas as pd\n",
    "import numpy as np\n",
    "import gc\n",
    "import itertools\n",
    "from tqdm import tqdm_notebook\n",
    "import seaborn as sns\n",
    "import matplotlib.pyplot as plt\n",
    "%matplotlib inline\n",
    "\n",
    "import os\n",
    "DATA_FOLDER = '../data/'\n",
    "train     = pd.read_csv(os.path.join(DATA_FOLDER, 'sales_train_v2.csv'))\n",
    "items     = pd.read_csv(os.path.join(DATA_FOLDER, 'items.csv'))\n",
    "item_cats = pd.read_csv(os.path.join(DATA_FOLDER, 'item_categories.csv'))\n",
    "shops     = pd.read_csv(os.path.join(DATA_FOLDER, 'shops.csv'))\n",
    "test      = pd.read_csv(os.path.join(DATA_FOLDER, 'test.csv'))\n",
    "test['date_block_num'] = 34\n",
    "groupby_cols = ['date_block_num', 'shop_id', 'item_id']"
   ]
  },
  {
   "cell_type": "markdown",
   "metadata": {
    "_uuid": "7edd17e1972f85b384dcd13c17fae0b5929aabd1"
   },
   "source": [
    "# Add some features"
   ]
  },
  {
   "cell_type": "code",
   "execution_count": 2,
   "metadata": {
    "_uuid": "930b7285014176e475312a1114320e41c2f68f9a"
   },
   "outputs": [],
   "source": [
    "#category\n",
    "cat = items[['item_id', 'item_category_id']].drop_duplicates()\n",
    "cat.set_index(['item_id'], inplace=True)\n",
    "cat = cat.item_category_id\n",
    "train['cat'] = train.item_id.map(cat)\n",
    "\n",
    "#meta_category   games, gifts, work, etc.\n",
    "item_cats['meta_cat'] = item_cats.item_category_name.apply(lambda x: x.split(' ')[0])\n",
    "item_cats['meta_cat'] = pd.Categorical(item_cats.meta_cat).codes\n",
    "item_cats.set_index(['item_category_id'], inplace=True)\n",
    "meta_cat = item_cats.meta_cat\n",
    "train['meta_cat'] = train.cat.map(meta_cat)\n",
    "\n",
    "#city\n",
    "shops['city'] = shops.shop_name.apply(lambda x: str.replace(x, '!', '')).apply(lambda x: x.split(' ')[0])\n",
    "shops['city'] = pd.Categorical(shops['city']).codes\n",
    "city = shops.city\n",
    "train['city'] = train.shop_id.map(city)\n",
    "\n",
    "#year\n",
    "year = pd.concat([train.date_block_num, train.date.apply(lambda x: int(x.split('.')[2]))], axis=1).drop_duplicates()\n",
    "year.set_index(['date_block_num'], inplace=True)\n",
    "year = year.date.append( pd.Series([2015], index=[34]) )\n",
    "\n",
    "#month\n",
    "month = pd.concat([train.date_block_num, train.date.apply(lambda x: int(x.split('.')[1]))], axis=1).drop_duplicates()\n",
    "month.set_index(['date_block_num'], inplace=True)\n",
    "month = month.date.append( pd.Series([11], index=[34]) )"
   ]
  },
  {
   "cell_type": "code",
   "execution_count": 3,
   "metadata": {
    "_uuid": "2e79fceb9498b99523292171924a3dcec9e07d6f"
   },
   "outputs": [
    {
     "name": "stderr",
     "output_type": "stream",
     "text": [
      "c:\\users\\cy\\appdata\\local\\programs\\python\\python36\\lib\\site-packages\\pandas\\core\\frame.py:6692: FutureWarning: Sorting because non-concatenation axis is not aligned. A future version\n",
      "of pandas will change to not sort by default.\n",
      "\n",
      "To accept the future behavior, pass 'sort=False'.\n",
      "\n",
      "To retain the current behavior and silence the warning, pass 'sort=True'.\n",
      "\n",
      "  sort=sort)\n"
     ]
    }
   ],
   "source": [
    "all_shops_items = []\n",
    "\n",
    "for block_num in train['date_block_num'].unique():\n",
    "    unique_shops = train[ train['date_block_num']==block_num ]['shop_id'].unique()\n",
    "    unique_items = train[ train['date_block_num']==block_num ]['item_id'].unique()\n",
    "    all_shops_items.append( np.array( list( itertools.product([block_num], unique_shops, unique_items) ), dtype='int32' ) )\n",
    "\n",
    "df = pd.DataFrame( np.vstack( all_shops_items ), columns=groupby_cols , dtype='int32')\n",
    "df = df.append(test )\n",
    "\n",
    "df['ID'] = df.ID.fillna(-1).astype('int32')\n",
    "\n",
    "df['year'] = df.date_block_num.map(year)\n",
    "df['month'] = df.date_block_num.map(month)\n",
    "df['cat'] = df.item_id.map(cat)\n",
    "df['meta_cat'] = df.cat.map(meta_cat)\n",
    "df['city'] = df.shop_id.map(city)\n",
    "train['cat'] = train.item_id.map(cat)"
   ]
  },
  {
   "cell_type": "code",
   "execution_count": 4,
   "metadata": {
    "_uuid": "7a2518066e4c36b1db41a7b6eca04534a1115018"
   },
   "outputs": [
    {
     "data": {
      "text/html": [
       "<div>\n",
       "<style scoped>\n",
       "    .dataframe tbody tr th:only-of-type {\n",
       "        vertical-align: middle;\n",
       "    }\n",
       "\n",
       "    .dataframe tbody tr th {\n",
       "        vertical-align: top;\n",
       "    }\n",
       "\n",
       "    .dataframe thead th {\n",
       "        text-align: right;\n",
       "    }\n",
       "</style>\n",
       "<table border=\"1\" class=\"dataframe\">\n",
       "  <thead>\n",
       "    <tr style=\"text-align: right;\">\n",
       "      <th></th>\n",
       "      <th>ID</th>\n",
       "      <th>date_block_num</th>\n",
       "      <th>item_id</th>\n",
       "      <th>shop_id</th>\n",
       "      <th>year</th>\n",
       "      <th>month</th>\n",
       "      <th>cat</th>\n",
       "      <th>meta_cat</th>\n",
       "      <th>city</th>\n",
       "    </tr>\n",
       "  </thead>\n",
       "  <tbody>\n",
       "    <tr>\n",
       "      <th>8511907</th>\n",
       "      <td>-1</td>\n",
       "      <td>24</td>\n",
       "      <td>14351</td>\n",
       "      <td>59</td>\n",
       "      <td>2015</td>\n",
       "      <td>1</td>\n",
       "      <td>37</td>\n",
       "      <td>7</td>\n",
       "      <td>30</td>\n",
       "    </tr>\n",
       "    <tr>\n",
       "      <th>7751129</th>\n",
       "      <td>-1</td>\n",
       "      <td>21</td>\n",
       "      <td>15452</td>\n",
       "      <td>43</td>\n",
       "      <td>2014</td>\n",
       "      <td>10</td>\n",
       "      <td>63</td>\n",
       "      <td>10</td>\n",
       "      <td>19</td>\n",
       "    </tr>\n",
       "    <tr>\n",
       "      <th>1909401</th>\n",
       "      <td>-1</td>\n",
       "      <td>5</td>\n",
       "      <td>13852</td>\n",
       "      <td>44</td>\n",
       "      <td>2013</td>\n",
       "      <td>6</td>\n",
       "      <td>38</td>\n",
       "      <td>7</td>\n",
       "      <td>20</td>\n",
       "    </tr>\n",
       "    <tr>\n",
       "      <th>8329067</th>\n",
       "      <td>-1</td>\n",
       "      <td>23</td>\n",
       "      <td>20673</td>\n",
       "      <td>19</td>\n",
       "      <td>2014</td>\n",
       "      <td>12</td>\n",
       "      <td>72</td>\n",
       "      <td>10</td>\n",
       "      <td>12</td>\n",
       "    </tr>\n",
       "    <tr>\n",
       "      <th>9471237</th>\n",
       "      <td>-1</td>\n",
       "      <td>27</td>\n",
       "      <td>19050</td>\n",
       "      <td>39</td>\n",
       "      <td>2015</td>\n",
       "      <td>4</td>\n",
       "      <td>55</td>\n",
       "      <td>9</td>\n",
       "      <td>18</td>\n",
       "    </tr>\n",
       "  </tbody>\n",
       "</table>\n",
       "</div>"
      ],
      "text/plain": [
       "         ID  date_block_num  item_id  shop_id  year  month  cat  meta_cat  \\\n",
       "8511907  -1              24    14351       59  2015      1   37         7   \n",
       "7751129  -1              21    15452       43  2014     10   63        10   \n",
       "1909401  -1               5    13852       44  2013      6   38         7   \n",
       "8329067  -1              23    20673       19  2014     12   72        10   \n",
       "9471237  -1              27    19050       39  2015      4   55         9   \n",
       "\n",
       "         city  \n",
       "8511907    30  \n",
       "7751129    19  \n",
       "1909401    20  \n",
       "8329067    12  \n",
       "9471237    18  "
      ]
     },
     "execution_count": 4,
     "metadata": {},
     "output_type": "execute_result"
    }
   ],
   "source": [
    "df.sample(5)"
   ]
  },
  {
   "cell_type": "markdown",
   "metadata": {
    "_uuid": "3828dea4b64a9bd3f1e5fd8eaff8e26be6273738"
   },
   "source": [
    "# Some plots"
   ]
  },
  {
   "cell_type": "code",
   "execution_count": 5,
   "metadata": {
    "_uuid": "0098f5c3dda4e925c18261613dbf1dc66a980f65"
   },
   "outputs": [
    {
     "data": {
      "text/plain": [
       "<matplotlib.axes._subplots.AxesSubplot at 0x2d7e224ea20>"
      ]
     },
     "execution_count": 5,
     "metadata": {},
     "output_type": "execute_result"
    },
    {
     "data": {
      "image/png": "[encoded data removed]",
      "text/plain": [
       "<Figure size 432x288 with 1 Axes>"
      ]
     },
     "metadata": {
      "needs_background": "light"
     },
     "output_type": "display_data"
    }
   ],
   "source": [
    "gb = train.groupby(by=['date_block_num'], as_index=False).agg({ 'item_cnt_day': ['sum']})\n",
    "sns.barplot(x=gb['date_block_num'], y=gb['item_cnt_day']['sum'])"
   ]
  },
  {
   "cell_type": "markdown",
   "metadata": {
    "_uuid": "37b698e7d92333e2d16b3259e1ff500a6480c5e9"
   },
   "source": [
    "Most of the target values are just Zeros."
   ]
  },
  {
   "cell_type": "code",
   "execution_count": 6,
   "metadata": {
    "_uuid": "7a7069bd4176bc8efa2c0a66968a8f6cd77590e5"
   },
   "outputs": [
    {
     "data": {
      "text/plain": [
       "<matplotlib.axes._subplots.AxesSubplot at 0x2d7899e9550>"
      ]
     },
     "execution_count": 6,
     "metadata": {},
     "output_type": "execute_result"
    },
    {
     "data": {
      "image/png": "[encoded data removed]",
      "text/plain": [
       "<Figure size 432x288 with 1 Axes>"
      ]
     },
     "metadata": {
      "needs_background": "light"
     },
     "output_type": "display_data"
    }
   ],
   "source": [
    "sns.distplot(train['item_cnt_day'])"
   ]
  },
  {
   "cell_type": "markdown",
   "metadata": {
    "_uuid": "e87b88f84eef8cb25ad3f92400cfa15b74cb9491"
   },
   "source": [
    "Zeros and ones are just dominating."
   ]
  },
  {
   "cell_type": "code",
   "execution_count": 7,
   "metadata": {
    "_uuid": "e6d63d8f488683bc8aea4d4bccc6828d298d0162"
   },
   "outputs": [
    {
     "data": {
      "text/plain": [
       "<matplotlib.axes._subplots.AxesSubplot at 0x2d789a88f60>"
      ]
     },
     "execution_count": 7,
     "metadata": {},
     "output_type": "execute_result"
    },
    {
     "data": {
      "image/png": "[encoded data removed]",
      "text/plain": [
       "<Figure size 432x288 with 1 Axes>"
      ]
     },
     "metadata": {
      "needs_background": "light"
     },
     "output_type": "display_data"
    }
   ],
   "source": [
    "sns.distplot( train[ train['item_cnt_day'] > 0 ]['item_cnt_day'].clip(0, 20) )"
   ]
  },
  {
   "cell_type": "markdown",
   "metadata": {
    "_uuid": "08cbc6746ccd6b4207227deb819f827d71ec5344"
   },
   "source": [
    "# Calculating different aggregations"
   ]
  },
  {
   "cell_type": "code",
   "execution_count": 8,
   "metadata": {
    "_uuid": "3e48859dce636c1d35cec059c01dccd4a45ea700"
   },
   "outputs": [],
   "source": [
    "gb = train.groupby(by=groupby_cols, as_index=False).agg({ 'item_cnt_day': ['sum']})\n",
    "gb.columns = [val[0] if val[-1]=='' else '_'.join(val) for val in gb.columns.values]\n",
    "gb.rename(columns={'item_cnt_day_sum':'target'}, inplace=True)\n",
    "df = pd.merge(df, gb, how='left', on=groupby_cols)\n",
    "\n",
    "gb = train.groupby(by=['date_block_num', 'item_id'], as_index=False).agg({'item_cnt_day':['sum']})\n",
    "gb.columns = [val[0] if val[-1]=='' else '_'.join(val) for val in gb.columns.values]\n",
    "gb.rename(columns={'item_cnt_day_sum':'target_item'}, inplace=True)\n",
    "df = pd.merge(df, gb, how='left', on=['date_block_num', 'item_id'])\n",
    "\n",
    "gb = train.groupby(by=['date_block_num', 'shop_id'], as_index=False).agg({'item_cnt_day':['sum']})\n",
    "gb.columns = [val[0] if val[-1]=='' else '_'.join(val) for val in gb.columns.values]\n",
    "gb.rename(columns={'item_cnt_day_sum':'target_shop'}, inplace=True)\n",
    "df = pd.merge(df, gb, how='left', on=['date_block_num', 'shop_id'])\n",
    "\n",
    "gb = train.groupby( by=['date_block_num', 'cat'], as_index=False).agg({ 'item_cnt_day': ['sum'] })\n",
    "gb.columns = [val[0] if val[-1]=='' else '_'.join(val) for val in gb.columns.values]\n",
    "gb.rename(columns={'item_cnt_day_sum':'target_cat'}, inplace=True)\n",
    "df = pd.merge(df, gb, how='left', on=['date_block_num', 'cat'])\n",
    "\n",
    "gb = train.groupby(by=['date_block_num', 'item_id'], as_index=False).agg({'item_price':['mean', 'max']})\n",
    "gb.columns = [val[0] if val[-1]=='' else '_'.join(val) for val in gb.columns.values]\n",
    "gb.rename(columns={'item_price_mean':'target_price_mean', 'item_price_max':'target_price_max'}, inplace=True)\n",
    "df = pd.merge(df, gb, how='left', on=['date_block_num', 'item_id'])"
   ]
  },
  {
   "cell_type": "markdown",
   "metadata": {
    "_uuid": "dcb1bb256c0c72b8f6f321a54163c3736c23b14d"
   },
   "source": [
    "# Clipping some outlier prices"
   ]
  },
  {
   "cell_type": "code",
   "execution_count": 9,
   "metadata": {
    "_uuid": "8a3610afd19f2f9ecaf03346c880030a2008f6b7"
   },
   "outputs": [
    {
     "name": "stderr",
     "output_type": "stream",
     "text": [
      "c:\\users\\cy\\appdata\\local\\programs\\python\\python36\\lib\\site-packages\\ipykernel_launcher.py:1: RuntimeWarning: invalid value encountered in minimum\n",
      "  \"\"\"Entry point for launching an IPython kernel.\n",
      "c:\\users\\cy\\appdata\\local\\programs\\python\\python36\\lib\\site-packages\\ipykernel_launcher.py:2: RuntimeWarning: invalid value encountered in minimum\n",
      "  \n"
     ]
    }
   ],
   "source": [
    "df['target_price_mean'] = np.minimum(df['target_price_mean'], df['target_price_mean'].quantile(0.99))\n",
    "df['target_price_max'] = np.minimum(df['target_price_max'], df['target_price_max'].quantile(0.99))\n",
    "\n",
    "df.fillna(0, inplace=True)\n",
    "df['target'] = df['target'].clip(0, 20)\n",
    "df['target_zero'] = (df['target'] > 0).astype(\"int32\")"
   ]
  },
  {
   "cell_type": "markdown",
   "metadata": {
    "_uuid": "32105b35366e1e73c496c65a9822bdc3cc565490"
   },
   "source": [
    "# Mean Encodings"
   ]
  },
  {
   "cell_type": "code",
   "execution_count": 10,
   "metadata": {
    "_uuid": "acd9fa75a7d8216ccea0df4ec8448548911b41d1",
    "scrolled": true
   },
   "outputs": [
    {
     "name": "stdout",
     "output_type": "stream",
     "text": [
      "enc_shop_id_cat enc_max_shop_id_cat\n"
     ]
    },
    {
     "data": {
      "application/vnd.jupyter.widget-view+json": {
       "model_id": "9708ca8e16f64aeda74f1c951b2cdda9",
       "version_major": 2,
       "version_minor": 0
      },
      "text/plain": [
       "HBox(children=(IntProgress(value=0, max=35), HTML(value='')))"
      ]
     },
     "metadata": {},
     "output_type": "display_data"
    },
    {
     "name": "stdout",
     "output_type": "stream",
     "text": [
      "\n",
      "enc_shop_id_item_id enc_max_shop_id_item_id\n"
     ]
    },
    {
     "data": {
      "application/vnd.jupyter.widget-view+json": {
       "model_id": "e1d6ccd14429478f823cebbab5c27261",
       "version_major": 2,
       "version_minor": 0
      },
      "text/plain": [
       "HBox(children=(IntProgress(value=0, max=35), HTML(value='')))"
      ]
     },
     "metadata": {},
     "output_type": "display_data"
    },
    {
     "name": "stdout",
     "output_type": "stream",
     "text": [
      "\n",
      "enc_shop_id enc_max_shop_id\n"
     ]
    },
    {
     "data": {
      "application/vnd.jupyter.widget-view+json": {
       "model_id": "f194590b9ac7471987a332a61f82b3bc",
       "version_major": 2,
       "version_minor": 0
      },
      "text/plain": [
       "HBox(children=(IntProgress(value=0, max=35), HTML(value='')))"
      ]
     },
     "metadata": {},
     "output_type": "display_data"
    },
    {
     "name": "stdout",
     "output_type": "stream",
     "text": [
      "\n",
      "enc_item_id enc_max_item_id\n"
     ]
    },
    {
     "data": {
      "application/vnd.jupyter.widget-view+json": {
       "model_id": "3e01e860ad2b4b96bae3c1297ed5c648",
       "version_major": 2,
       "version_minor": 0
      },
      "text/plain": [
       "HBox(children=(IntProgress(value=0, max=35), HTML(value='')))"
      ]
     },
     "metadata": {},
     "output_type": "display_data"
    },
    {
     "name": "stdout",
     "output_type": "stream",
     "text": [
      "\n",
      "Wall time: 5min 51s\n"
     ]
    }
   ],
   "source": [
    "%%time\n",
    "for enc_cols in [['shop_id', 'cat'], ['shop_id', 'item_id'], ['shop_id'], ['item_id']]:\n",
    "    \n",
    "    col = '_'.join(['enc', *enc_cols])\n",
    "    col2 = '_'.join(['enc_max', *enc_cols])\n",
    "    df[col] = np.nan\n",
    "    df[col2] = np.nan\n",
    "    \n",
    "    print(col, col2)\n",
    "    \n",
    "    for d in tqdm_notebook(df.date_block_num.unique()):\n",
    "        \n",
    "\n",
    "        f1 = df.date_block_num < d\n",
    "        f2 = df.date_block_num == d\n",
    "\n",
    "        gb = df.loc[f1].groupby(enc_cols)[['target']].mean().reset_index()\n",
    "        enc = df.loc[f2][enc_cols].merge(gb, on=enc_cols, how='left' )[['target']].copy()\n",
    "        enc.set_index(df.loc[f2].index, inplace=True)\n",
    "        df.loc[f2, col] = enc['target']\n",
    "        \n",
    "        gb = df.loc[f1].groupby(enc_cols)[['target']].max().reset_index()\n",
    "        enc = df.loc[f2][enc_cols].merge(gb, on=enc_cols, how='left' )[['target']].copy()\n",
    "        enc.set_index(df.loc[f2].index, inplace=True)\n",
    "        df.loc[f2, col2] = enc['target']\n",
    "        "
   ]
  },
  {
   "cell_type": "code",
   "execution_count": 11,
   "metadata": {
    "_uuid": "61d1589d71469250aab1d85cde8ce149d652f4df"
   },
   "outputs": [],
   "source": [
    "def downcast_dtypes(df):\n",
    "    '''\n",
    "        Changes column types in the dataframe: \n",
    "                \n",
    "                `float64` type to `float32`\n",
    "                `int64`   type to `int32`\n",
    "    '''\n",
    "    \n",
    "    # Select columns to downcast\n",
    "    float32_cols = [c for c in df if df[c].dtype == \"float64\"]\n",
    "    int32_cols = [c for c in df if df[c].dtype in [\"int64\", \"int16\", \"int8\"] ]\n",
    "            \n",
    "    # Downcast\n",
    "    df[float32_cols] = df[float32_cols].astype(np.float32)\n",
    "    df[int32_cols]   = df[int32_cols].astype(np.int32)\n",
    "        \n",
    "    return df"
   ]
  },
  {
   "cell_type": "code",
   "execution_count": 12,
   "metadata": {
    "_uuid": "9e81606ef442f104cecb3d8099b70f062e62871e"
   },
   "outputs": [],
   "source": [
    "df.fillna(0, inplace=True)\n",
    "df = downcast_dtypes(df)"
   ]
  },
  {
   "cell_type": "markdown",
   "metadata": {
    "_uuid": "b820a86a1e5eed3edc5767accac596d45a16d75a"
   },
   "source": [
    "# Historical values"
   ]
  },
  {
   "cell_type": "code",
   "execution_count": 13,
   "metadata": {
    "_uuid": "80152e6508c3bc836d78c5ecd22b4de774fc3f7e"
   },
   "outputs": [],
   "source": [
    "import pandas as pd\n",
    "import numpy as np\n",
    "from tqdm import tqdm_notebook\n",
    "import os\n",
    "import gc\n",
    "from time import sleep\n",
    "\n",
    "groupby_cols = ['date_block_num', 'shop_id', 'item_id']\n",
    "shift_range = [1, 2, 3, 4, 5, 12]"
   ]
  },
  {
   "cell_type": "markdown",
   "metadata": {
    "_uuid": "d1eadefd3618b8228cb2bb2130510525c5d2f299"
   },
   "source": [
    "# Features Interaction"
   ]
  },
  {
   "cell_type": "code",
   "execution_count": 26,
   "metadata": {
    "_uuid": "dd93d74516e079f6d68ae9694ccbc1425f6be889"
   },
   "outputs": [],
   "source": [
    "df['target_trend_1_2'] = df['target_lag_1'] - df['target_lag_2']\n",
    "df['target_predict_1_2'] = df['target_lag_1']*2 - df['target_lag_2']\n",
    "\n",
    "df['target_trend_3_4'] = df['target_lag_1'] + df['target_lag_2'] - df['target_lag_3'] - df['target_lag_4']\n",
    "df['target_predict_3_4'] = (df['target_lag_1'] + df['target_lag_2'])*2 - df['target_lag_3'] - df['target_lag_4']\n",
    "\n",
    "df['target_item_trend_1_2'] = df['target_item_lag_1'] - df['target_item_lag_2']\n",
    "df['target_item_trend_3_4'] = df['target_item_lag_1'] + df['target_item_lag_2'] - df['target_item_lag_3'] - df['target_item_lag_4']\n",
    "df['target_shop_trend_1_2'] = df['target_shop_lag_1'] - df['target_shop_lag_2']\n",
    "df['target_shop_trend_3_4'] = df['target_shop_lag_1'] + df['target_shop_lag_2'] - df['target_shop_lag_3'] - df['target_shop_lag_4']"
   ]
  },
  {
   "cell_type": "code",
   "execution_count": 27,
   "metadata": {
    "_uuid": "a32cf11e3fa66b2e1b282e34a4e11f8c671d991e"
   },
   "outputs": [],
   "source": [
    "df = downcast_dtypes(df)\n",
    "df.to_pickle(\"df.pkl\")"
   ]
  },
  {
   "cell_type": "markdown",
   "metadata": {
    "_uuid": "1e6e2ea4020d19b0f5a26133b75564a8010d9ca6"
   },
   "source": [
    "# XGBoost part"
   ]
  },
  {
   "cell_type": "code",
   "execution_count": 1,
   "metadata": {
    "_uuid": "8fef6e29f9f68652e1731cb3ddd28487f13a8f99"
   },
   "outputs": [],
   "source": [
    "import pandas as pd\n",
    "import numpy as np\n",
    "import os\n",
    "import gc\n",
    "import xgboost as xgb\n",
    "from sklearn.model_selection import train_test_split\n",
    "import pickle\n",
    "from xgboost import XGBRegressor\n",
    "import matplotlib.pyplot as plt\n",
    "%matplotlib inline"
   ]
  },
  {
   "cell_type": "code",
   "execution_count": 2,
   "metadata": {
    "_uuid": "94672e7385a95cbe805f31b91adfee548ca16576"
   },
   "outputs": [],
   "source": [
    "df = pd.read_pickle(\"df.pkl\")\n",
    "\n",
    "drop_columns = [c for c in df if c[-1] not in ['1', '2', '3', '4', '5', '6', '7', '8', '9', '0'] and c.startswith('target')]\n",
    "drop_columns += ['ID']\n",
    "features = df.columns.difference( drop_columns )\n",
    "\n",
    "f0 = df.date_block_num < 34\n",
    "f1 = df.date_block_num == 34\n",
    "\n",
    "train, val = train_test_split(df[f0], test_size=0.2, stratify=df[f0]['target'])\n",
    "test = df[f1]"
   ]
  },
  {
   "cell_type": "code",
   "execution_count": 3,
   "metadata": {
    "_uuid": "8a6b574f8d0520f7b8e1b4cd2417748c2f960a92",
    "scrolled": true
   },
   "outputs": [
    {
     "name": "stderr",
     "output_type": "stream",
     "text": [
      "c:\\users\\cy\\desktop\\testjupyter\\lib\\site-packages\\xgboost-0.83.dev0-py3.6.egg\\xgboost\\core.py:587: FutureWarning: Series.base is deprecated and will be removed in a future version\n",
      "  if getattr(data, 'base', None) is not None and \\\n",
      "c:\\users\\cy\\desktop\\testjupyter\\lib\\site-packages\\xgboost-0.83.dev0-py3.6.egg\\xgboost\\core.py:588: FutureWarning: Series.base is deprecated and will be removed in a future version\n",
      "  data.base is not None and isinstance(data, np.ndarray) \\\n"
     ]
    }
   ],
   "source": [
    "Train = xgb.DMatrix( train[features], train['target'] )\n",
    "Val = xgb.DMatrix( val[features], val['target'] )\n",
    "Test = xgb.DMatrix( test[features])"
   ]
  },
  {
   "cell_type": "code",
   "execution_count": 4,
   "metadata": {
    "_uuid": "b3591ea190e85a84e38bd6b40e29ed9a6c5ed80e"
   },
   "outputs": [
    {
     "data": {
      "text/plain": [
       "17"
      ]
     },
     "execution_count": 4,
     "metadata": {},
     "output_type": "execute_result"
    }
   ],
   "source": [
    "del df\n",
    "gc.collect()"
   ]
  },
  {
   "cell_type": "code",
   "execution_count": 5,
   "metadata": {
    "_uuid": "082909d70241f64d4bd990e337bd6c582dc3fcd8",
    "scrolled": true
   },
   "outputs": [
    {
     "name": "stdout",
     "output_type": "stream",
     "text": [
      "[16:45:31] WARNING: C:/dev/libs/xgboost/src/objective/regression_obj.cu:152: reg:linear is now deprecated in favor of reg:squarederror.\n",
      "[0]\tTrain-rmse:1.18928\tVal-rmse:1.18911\n",
      "Multiple eval metrics have been passed: 'Val-rmse' will be used for early stopping.\n",
      "\n",
      "Will train until Val-rmse hasn't improved in 10 rounds.\n",
      "[1]\tTrain-rmse:1.14707\tVal-rmse:1.14677\n",
      "[2]\tTrain-rmse:1.11118\tVal-rmse:1.11084\n",
      "[3]\tTrain-rmse:1.08092\tVal-rmse:1.08061\n",
      "[4]\tTrain-rmse:1.05484\tVal-rmse:1.05454\n",
      "[5]\tTrain-rmse:1.03349\tVal-rmse:1.0332\n",
      "[6]\tTrain-rmse:1.01474\tVal-rmse:1.01442\n",
      "[7]\tTrain-rmse:0.999288\tVal-rmse:0.999013\n",
      "[8]\tTrain-rmse:0.985688\tVal-rmse:0.985307\n",
      "[9]\tTrain-rmse:0.974744\tVal-rmse:0.974437\n",
      "[10]\tTrain-rmse:0.964891\tVal-rmse:0.9647\n",
      "[11]\tTrain-rmse:0.956689\tVal-rmse:0.956541\n",
      "[12]\tTrain-rmse:0.94986\tVal-rmse:0.949721\n",
      "[13]\tTrain-rmse:0.94404\tVal-rmse:0.944075\n",
      "[14]\tTrain-rmse:0.938732\tVal-rmse:0.938846\n",
      "[15]\tTrain-rmse:0.934223\tVal-rmse:0.934448\n",
      "[16]\tTrain-rmse:0.930344\tVal-rmse:0.930586\n",
      "[17]\tTrain-rmse:0.926761\tVal-rmse:0.927092\n",
      "[18]\tTrain-rmse:0.923764\tVal-rmse:0.924084\n",
      "[19]\tTrain-rmse:0.921176\tVal-rmse:0.921593\n",
      "[20]\tTrain-rmse:0.91871\tVal-rmse:0.919208\n",
      "[21]\tTrain-rmse:0.916697\tVal-rmse:0.917295\n",
      "[22]\tTrain-rmse:0.914752\tVal-rmse:0.915359\n",
      "[23]\tTrain-rmse:0.913217\tVal-rmse:0.913851\n",
      "[24]\tTrain-rmse:0.911496\tVal-rmse:0.912145\n",
      "[25]\tTrain-rmse:0.910062\tVal-rmse:0.910775\n",
      "[26]\tTrain-rmse:0.908832\tVal-rmse:0.909545\n",
      "[27]\tTrain-rmse:0.907692\tVal-rmse:0.90848\n",
      "[28]\tTrain-rmse:0.90675\tVal-rmse:0.907575\n",
      "[29]\tTrain-rmse:0.90545\tVal-rmse:0.906307\n",
      "[30]\tTrain-rmse:0.904363\tVal-rmse:0.905271\n",
      "[31]\tTrain-rmse:0.9034\tVal-rmse:0.904321\n",
      "[32]\tTrain-rmse:0.90261\tVal-rmse:0.903581\n",
      "[33]\tTrain-rmse:0.901732\tVal-rmse:0.902756\n",
      "[34]\tTrain-rmse:0.900723\tVal-rmse:0.901767\n",
      "[35]\tTrain-rmse:0.900075\tVal-rmse:0.901171\n",
      "[36]\tTrain-rmse:0.89939\tVal-rmse:0.900511\n",
      "[37]\tTrain-rmse:0.898482\tVal-rmse:0.899676\n",
      "[38]\tTrain-rmse:0.897557\tVal-rmse:0.898742\n",
      "[39]\tTrain-rmse:0.896601\tVal-rmse:0.897811\n",
      "[40]\tTrain-rmse:0.895788\tVal-rmse:0.897\n",
      "[41]\tTrain-rmse:0.895158\tVal-rmse:0.896363\n",
      "[42]\tTrain-rmse:0.894363\tVal-rmse:0.895605\n",
      "[43]\tTrain-rmse:0.893829\tVal-rmse:0.895105\n",
      "[44]\tTrain-rmse:0.893326\tVal-rmse:0.894594\n",
      "[45]\tTrain-rmse:0.892805\tVal-rmse:0.894097\n",
      "[46]\tTrain-rmse:0.892195\tVal-rmse:0.893506\n",
      "[47]\tTrain-rmse:0.891882\tVal-rmse:0.893232\n",
      "[48]\tTrain-rmse:0.891376\tVal-rmse:0.892759\n",
      "[49]\tTrain-rmse:0.890988\tVal-rmse:0.892405\n",
      "[50]\tTrain-rmse:0.890528\tVal-rmse:0.891967\n",
      "[51]\tTrain-rmse:0.889617\tVal-rmse:0.891181\n",
      "[52]\tTrain-rmse:0.889199\tVal-rmse:0.890831\n",
      "[53]\tTrain-rmse:0.888703\tVal-rmse:0.890382\n",
      "[54]\tTrain-rmse:0.888051\tVal-rmse:0.889849\n",
      "[55]\tTrain-rmse:0.887699\tVal-rmse:0.889574\n",
      "[56]\tTrain-rmse:0.887441\tVal-rmse:0.889372\n",
      "[57]\tTrain-rmse:0.887062\tVal-rmse:0.889005\n",
      "[58]\tTrain-rmse:0.886792\tVal-rmse:0.888762\n",
      "[59]\tTrain-rmse:0.886173\tVal-rmse:0.888178\n",
      "[60]\tTrain-rmse:0.885975\tVal-rmse:0.888022\n",
      "[61]\tTrain-rmse:0.885794\tVal-rmse:0.887877\n",
      "[62]\tTrain-rmse:0.885327\tVal-rmse:0.887431\n",
      "[63]\tTrain-rmse:0.884901\tVal-rmse:0.887027\n",
      "[64]\tTrain-rmse:0.883961\tVal-rmse:0.886138\n",
      "[65]\tTrain-rmse:0.883332\tVal-rmse:0.885511\n",
      "[66]\tTrain-rmse:0.883061\tVal-rmse:0.885319\n",
      "[67]\tTrain-rmse:0.882805\tVal-rmse:0.885113\n",
      "[68]\tTrain-rmse:0.882604\tVal-rmse:0.884944\n",
      "[69]\tTrain-rmse:0.881924\tVal-rmse:0.884351\n",
      "[70]\tTrain-rmse:0.881801\tVal-rmse:0.884248\n",
      "[71]\tTrain-rmse:0.881574\tVal-rmse:0.884076\n",
      "[72]\tTrain-rmse:0.881347\tVal-rmse:0.88392\n",
      "[73]\tTrain-rmse:0.880618\tVal-rmse:0.883225\n",
      "[74]\tTrain-rmse:0.880138\tVal-rmse:0.882844\n",
      "[75]\tTrain-rmse:0.879837\tVal-rmse:0.882628\n",
      "[76]\tTrain-rmse:0.879587\tVal-rmse:0.882426\n",
      "[77]\tTrain-rmse:0.87916\tVal-rmse:0.88206\n",
      "[78]\tTrain-rmse:0.878755\tVal-rmse:0.881697\n",
      "[79]\tTrain-rmse:0.878622\tVal-rmse:0.881573\n",
      "[80]\tTrain-rmse:0.878426\tVal-rmse:0.881436\n",
      "[81]\tTrain-rmse:0.877976\tVal-rmse:0.88102\n",
      "[82]\tTrain-rmse:0.877558\tVal-rmse:0.880655\n",
      "[83]\tTrain-rmse:0.877315\tVal-rmse:0.880458\n",
      "[84]\tTrain-rmse:0.877084\tVal-rmse:0.880298\n",
      "[85]\tTrain-rmse:0.876893\tVal-rmse:0.880145\n",
      "[86]\tTrain-rmse:0.876743\tVal-rmse:0.88004\n",
      "[87]\tTrain-rmse:0.876634\tVal-rmse:0.879937\n",
      "[88]\tTrain-rmse:0.876517\tVal-rmse:0.87984\n",
      "[89]\tTrain-rmse:0.876237\tVal-rmse:0.87958\n",
      "[90]\tTrain-rmse:0.875563\tVal-rmse:0.878939\n",
      "[91]\tTrain-rmse:0.875337\tVal-rmse:0.878741\n",
      "[92]\tTrain-rmse:0.875165\tVal-rmse:0.878569\n",
      "[93]\tTrain-rmse:0.875049\tVal-rmse:0.878492\n",
      "[94]\tTrain-rmse:0.874767\tVal-rmse:0.878281\n",
      "[95]\tTrain-rmse:0.874608\tVal-rmse:0.878132\n",
      "[96]\tTrain-rmse:0.874438\tVal-rmse:0.877981\n",
      "[97]\tTrain-rmse:0.874309\tVal-rmse:0.877879\n",
      "[98]\tTrain-rmse:0.874041\tVal-rmse:0.877677\n",
      "[99]\tTrain-rmse:0.873904\tVal-rmse:0.877573\n",
      "[100]\tTrain-rmse:0.873617\tVal-rmse:0.87735\n",
      "[101]\tTrain-rmse:0.873373\tVal-rmse:0.877127\n",
      "[102]\tTrain-rmse:0.87325\tVal-rmse:0.877038\n",
      "[103]\tTrain-rmse:0.873055\tVal-rmse:0.876892\n",
      "[104]\tTrain-rmse:0.872865\tVal-rmse:0.876749\n",
      "[105]\tTrain-rmse:0.872543\tVal-rmse:0.876463\n",
      "[106]\tTrain-rmse:0.872221\tVal-rmse:0.876175\n",
      "[107]\tTrain-rmse:0.871947\tVal-rmse:0.875957\n",
      "[108]\tTrain-rmse:0.871814\tVal-rmse:0.875886\n",
      "[109]\tTrain-rmse:0.871676\tVal-rmse:0.875779\n",
      "[110]\tTrain-rmse:0.871131\tVal-rmse:0.87525\n",
      "[111]\tTrain-rmse:0.870981\tVal-rmse:0.875125\n",
      "[112]\tTrain-rmse:0.870683\tVal-rmse:0.87489\n",
      "[113]\tTrain-rmse:0.870455\tVal-rmse:0.874724\n",
      "[114]\tTrain-rmse:0.870202\tVal-rmse:0.874527\n",
      "[115]\tTrain-rmse:0.870061\tVal-rmse:0.874422\n",
      "[116]\tTrain-rmse:0.869841\tVal-rmse:0.874251\n",
      "[117]\tTrain-rmse:0.869709\tVal-rmse:0.874161\n",
      "[118]\tTrain-rmse:0.869381\tVal-rmse:0.873888\n",
      "[119]\tTrain-rmse:0.869137\tVal-rmse:0.873703\n",
      "[120]\tTrain-rmse:0.868989\tVal-rmse:0.873601\n",
      "[121]\tTrain-rmse:0.868875\tVal-rmse:0.873512\n",
      "[122]\tTrain-rmse:0.868751\tVal-rmse:0.873425\n",
      "[123]\tTrain-rmse:0.868415\tVal-rmse:0.873128\n",
      "[124]\tTrain-rmse:0.868233\tVal-rmse:0.872987\n",
      "[125]\tTrain-rmse:0.867968\tVal-rmse:0.87275\n",
      "[126]\tTrain-rmse:0.867706\tVal-rmse:0.872551\n",
      "[127]\tTrain-rmse:0.867365\tVal-rmse:0.872231\n",
      "[128]\tTrain-rmse:0.867202\tVal-rmse:0.872104\n",
      "[129]\tTrain-rmse:0.867086\tVal-rmse:0.871995\n",
      "[130]\tTrain-rmse:0.866974\tVal-rmse:0.871915\n",
      "[131]\tTrain-rmse:0.866711\tVal-rmse:0.871725\n",
      "[132]\tTrain-rmse:0.866354\tVal-rmse:0.871408\n",
      "[133]\tTrain-rmse:0.866036\tVal-rmse:0.871139\n",
      "[134]\tTrain-rmse:0.865881\tVal-rmse:0.871014\n",
      "[135]\tTrain-rmse:0.865825\tVal-rmse:0.870979\n",
      "[136]\tTrain-rmse:0.865638\tVal-rmse:0.870814\n",
      "[137]\tTrain-rmse:0.86554\tVal-rmse:0.870765\n",
      "[138]\tTrain-rmse:0.865335\tVal-rmse:0.870591\n",
      "[139]\tTrain-rmse:0.86483\tVal-rmse:0.870117\n",
      "[140]\tTrain-rmse:0.864487\tVal-rmse:0.86979\n",
      "[141]\tTrain-rmse:0.864421\tVal-rmse:0.86975\n",
      "[142]\tTrain-rmse:0.864309\tVal-rmse:0.869657\n",
      "[143]\tTrain-rmse:0.864193\tVal-rmse:0.869586\n",
      "[144]\tTrain-rmse:0.864088\tVal-rmse:0.869516\n",
      "[145]\tTrain-rmse:0.863967\tVal-rmse:0.869422\n",
      "[146]\tTrain-rmse:0.863854\tVal-rmse:0.869368\n",
      "[147]\tTrain-rmse:0.86378\tVal-rmse:0.869325\n",
      "[148]\tTrain-rmse:0.863522\tVal-rmse:0.869096\n",
      "[149]\tTrain-rmse:0.863459\tVal-rmse:0.869043\n",
      "[150]\tTrain-rmse:0.863336\tVal-rmse:0.868941\n",
      "[151]\tTrain-rmse:0.863171\tVal-rmse:0.8688\n",
      "[152]\tTrain-rmse:0.86307\tVal-rmse:0.868729\n",
      "[153]\tTrain-rmse:0.86274\tVal-rmse:0.868432\n",
      "[154]\tTrain-rmse:0.862653\tVal-rmse:0.86836\n",
      "[155]\tTrain-rmse:0.862481\tVal-rmse:0.868198\n",
      "[156]\tTrain-rmse:0.862306\tVal-rmse:0.868081\n",
      "[157]\tTrain-rmse:0.862199\tVal-rmse:0.868018\n",
      "[158]\tTrain-rmse:0.861752\tVal-rmse:0.867633\n",
      "[159]\tTrain-rmse:0.861666\tVal-rmse:0.867584\n",
      "[160]\tTrain-rmse:0.861511\tVal-rmse:0.867451\n",
      "[161]\tTrain-rmse:0.861304\tVal-rmse:0.867306\n",
      "[162]\tTrain-rmse:0.861134\tVal-rmse:0.867162\n",
      "[163]\tTrain-rmse:0.861051\tVal-rmse:0.867113\n",
      "[164]\tTrain-rmse:0.860977\tVal-rmse:0.867061\n",
      "[165]\tTrain-rmse:0.860823\tVal-rmse:0.866939\n",
      "[166]\tTrain-rmse:0.860751\tVal-rmse:0.866895\n",
      "[167]\tTrain-rmse:0.86038\tVal-rmse:0.866545\n",
      "[168]\tTrain-rmse:0.860132\tVal-rmse:0.866348\n",
      "[169]\tTrain-rmse:0.859947\tVal-rmse:0.866186\n",
      "[170]\tTrain-rmse:0.859662\tVal-rmse:0.865919\n",
      "[171]\tTrain-rmse:0.859608\tVal-rmse:0.865881\n",
      "[172]\tTrain-rmse:0.859524\tVal-rmse:0.865833\n",
      "[173]\tTrain-rmse:0.859394\tVal-rmse:0.865743\n",
      "[174]\tTrain-rmse:0.85919\tVal-rmse:0.865568\n",
      "[175]\tTrain-rmse:0.859074\tVal-rmse:0.865499\n",
      "[176]\tTrain-rmse:0.858919\tVal-rmse:0.865375\n",
      "[177]\tTrain-rmse:0.858656\tVal-rmse:0.865148\n",
      "[178]\tTrain-rmse:0.858606\tVal-rmse:0.865129\n",
      "[179]\tTrain-rmse:0.858484\tVal-rmse:0.865047\n",
      "[180]\tTrain-rmse:0.858315\tVal-rmse:0.864908\n",
      "[181]\tTrain-rmse:0.858127\tVal-rmse:0.864765\n",
      "[182]\tTrain-rmse:0.857706\tVal-rmse:0.864343\n",
      "[183]\tTrain-rmse:0.857633\tVal-rmse:0.864279\n"
     ]
    },
    {
     "name": "stdout",
     "output_type": "stream",
     "text": [
      "[184]\tTrain-rmse:0.85757\tVal-rmse:0.864229\n",
      "[185]\tTrain-rmse:0.857348\tVal-rmse:0.86406\n",
      "[186]\tTrain-rmse:0.857284\tVal-rmse:0.86401\n",
      "[187]\tTrain-rmse:0.856595\tVal-rmse:0.863409\n",
      "[188]\tTrain-rmse:0.856426\tVal-rmse:0.863273\n",
      "[189]\tTrain-rmse:0.855941\tVal-rmse:0.862774\n",
      "[190]\tTrain-rmse:0.855689\tVal-rmse:0.862554\n",
      "[191]\tTrain-rmse:0.855569\tVal-rmse:0.862491\n",
      "[192]\tTrain-rmse:0.855467\tVal-rmse:0.862427\n",
      "[193]\tTrain-rmse:0.855392\tVal-rmse:0.862392\n",
      "[194]\tTrain-rmse:0.855267\tVal-rmse:0.862276\n",
      "[195]\tTrain-rmse:0.854606\tVal-rmse:0.861628\n",
      "[196]\tTrain-rmse:0.854533\tVal-rmse:0.861583\n",
      "[197]\tTrain-rmse:0.854291\tVal-rmse:0.86138\n",
      "[198]\tTrain-rmse:0.854089\tVal-rmse:0.861241\n",
      "[199]\tTrain-rmse:0.853903\tVal-rmse:0.86108\n",
      "[200]\tTrain-rmse:0.853789\tVal-rmse:0.860999\n",
      "[201]\tTrain-rmse:0.853577\tVal-rmse:0.860798\n",
      "[202]\tTrain-rmse:0.853502\tVal-rmse:0.860743\n",
      "[203]\tTrain-rmse:0.853307\tVal-rmse:0.8606\n",
      "[204]\tTrain-rmse:0.853231\tVal-rmse:0.860563\n",
      "[205]\tTrain-rmse:0.853098\tVal-rmse:0.860476\n",
      "[206]\tTrain-rmse:0.853009\tVal-rmse:0.860402\n",
      "[207]\tTrain-rmse:0.852757\tVal-rmse:0.860196\n",
      "[208]\tTrain-rmse:0.852649\tVal-rmse:0.8601\n",
      "[209]\tTrain-rmse:0.852606\tVal-rmse:0.860088\n",
      "[210]\tTrain-rmse:0.852441\tVal-rmse:0.859933\n",
      "[211]\tTrain-rmse:0.852365\tVal-rmse:0.859894\n",
      "[212]\tTrain-rmse:0.851846\tVal-rmse:0.859433\n",
      "[213]\tTrain-rmse:0.851799\tVal-rmse:0.85943\n",
      "[214]\tTrain-rmse:0.851513\tVal-rmse:0.859167\n",
      "[215]\tTrain-rmse:0.851426\tVal-rmse:0.859106\n",
      "[216]\tTrain-rmse:0.851348\tVal-rmse:0.859042\n",
      "[217]\tTrain-rmse:0.85126\tVal-rmse:0.858964\n",
      "[218]\tTrain-rmse:0.851002\tVal-rmse:0.858753\n",
      "[219]\tTrain-rmse:0.850959\tVal-rmse:0.858727\n",
      "[220]\tTrain-rmse:0.850527\tVal-rmse:0.858289\n",
      "[221]\tTrain-rmse:0.850446\tVal-rmse:0.858205\n",
      "[222]\tTrain-rmse:0.850348\tVal-rmse:0.858129\n",
      "[223]\tTrain-rmse:0.850248\tVal-rmse:0.858059\n",
      "[224]\tTrain-rmse:0.85009\tVal-rmse:0.857909\n",
      "[225]\tTrain-rmse:0.850029\tVal-rmse:0.857865\n",
      "[226]\tTrain-rmse:0.849918\tVal-rmse:0.857795\n",
      "[227]\tTrain-rmse:0.849774\tVal-rmse:0.857705\n",
      "[228]\tTrain-rmse:0.849629\tVal-rmse:0.857611\n",
      "[229]\tTrain-rmse:0.849274\tVal-rmse:0.857339\n",
      "[230]\tTrain-rmse:0.84905\tVal-rmse:0.85718\n",
      "[231]\tTrain-rmse:0.848955\tVal-rmse:0.857095\n",
      "[232]\tTrain-rmse:0.848841\tVal-rmse:0.856999\n",
      "[233]\tTrain-rmse:0.848745\tVal-rmse:0.856922\n",
      "[234]\tTrain-rmse:0.84864\tVal-rmse:0.856841\n",
      "[235]\tTrain-rmse:0.848496\tVal-rmse:0.856728\n",
      "[236]\tTrain-rmse:0.84841\tVal-rmse:0.856674\n",
      "[237]\tTrain-rmse:0.848229\tVal-rmse:0.856539\n",
      "[238]\tTrain-rmse:0.848171\tVal-rmse:0.856521\n",
      "[239]\tTrain-rmse:0.848065\tVal-rmse:0.856434\n",
      "[240]\tTrain-rmse:0.84796\tVal-rmse:0.85636\n",
      "[241]\tTrain-rmse:0.847861\tVal-rmse:0.856277\n",
      "[242]\tTrain-rmse:0.84779\tVal-rmse:0.856249\n",
      "[243]\tTrain-rmse:0.847703\tVal-rmse:0.85619\n",
      "[244]\tTrain-rmse:0.847585\tVal-rmse:0.856116\n",
      "[245]\tTrain-rmse:0.847398\tVal-rmse:0.855958\n",
      "[246]\tTrain-rmse:0.847174\tVal-rmse:0.855745\n",
      "[247]\tTrain-rmse:0.847103\tVal-rmse:0.855713\n",
      "[248]\tTrain-rmse:0.846991\tVal-rmse:0.855645\n",
      "[249]\tTrain-rmse:0.846832\tVal-rmse:0.855532\n",
      "[250]\tTrain-rmse:0.846773\tVal-rmse:0.855501\n",
      "[251]\tTrain-rmse:0.846674\tVal-rmse:0.855428\n",
      "[252]\tTrain-rmse:0.846594\tVal-rmse:0.855368\n",
      "[253]\tTrain-rmse:0.846382\tVal-rmse:0.85514\n",
      "[254]\tTrain-rmse:0.846203\tVal-rmse:0.855009\n",
      "[255]\tTrain-rmse:0.845861\tVal-rmse:0.854764\n",
      "[256]\tTrain-rmse:0.845697\tVal-rmse:0.854638\n",
      "[257]\tTrain-rmse:0.845604\tVal-rmse:0.854559\n",
      "[258]\tTrain-rmse:0.84553\tVal-rmse:0.85451\n",
      "[259]\tTrain-rmse:0.845425\tVal-rmse:0.854432\n",
      "[260]\tTrain-rmse:0.845379\tVal-rmse:0.854397\n",
      "[261]\tTrain-rmse:0.845309\tVal-rmse:0.85437\n",
      "[262]\tTrain-rmse:0.845209\tVal-rmse:0.854304\n",
      "[263]\tTrain-rmse:0.845094\tVal-rmse:0.854204\n",
      "[264]\tTrain-rmse:0.844901\tVal-rmse:0.854028\n",
      "[265]\tTrain-rmse:0.844846\tVal-rmse:0.853988\n",
      "[266]\tTrain-rmse:0.844574\tVal-rmse:0.853721\n",
      "[267]\tTrain-rmse:0.84451\tVal-rmse:0.853677\n",
      "[268]\tTrain-rmse:0.844429\tVal-rmse:0.853632\n",
      "[269]\tTrain-rmse:0.844422\tVal-rmse:0.853631\n",
      "[270]\tTrain-rmse:0.844295\tVal-rmse:0.853547\n",
      "[271]\tTrain-rmse:0.844134\tVal-rmse:0.85344\n",
      "[272]\tTrain-rmse:0.844016\tVal-rmse:0.853346\n",
      "[273]\tTrain-rmse:0.843883\tVal-rmse:0.853243\n",
      "[274]\tTrain-rmse:0.843835\tVal-rmse:0.853209\n",
      "[275]\tTrain-rmse:0.843786\tVal-rmse:0.853198\n",
      "[276]\tTrain-rmse:0.843488\tVal-rmse:0.852933\n",
      "[277]\tTrain-rmse:0.843384\tVal-rmse:0.852862\n",
      "[278]\tTrain-rmse:0.843223\tVal-rmse:0.852769\n",
      "[279]\tTrain-rmse:0.843067\tVal-rmse:0.852642\n",
      "[280]\tTrain-rmse:0.842989\tVal-rmse:0.852595\n",
      "[281]\tTrain-rmse:0.842919\tVal-rmse:0.852542\n",
      "[282]\tTrain-rmse:0.842564\tVal-rmse:0.852219\n",
      "[283]\tTrain-rmse:0.842447\tVal-rmse:0.852138\n",
      "[284]\tTrain-rmse:0.842328\tVal-rmse:0.852034\n",
      "[285]\tTrain-rmse:0.841968\tVal-rmse:0.851733\n",
      "[286]\tTrain-rmse:0.84186\tVal-rmse:0.851666\n",
      "[287]\tTrain-rmse:0.841794\tVal-rmse:0.851627\n",
      "[288]\tTrain-rmse:0.841669\tVal-rmse:0.851521\n",
      "[289]\tTrain-rmse:0.841462\tVal-rmse:0.851318\n",
      "[290]\tTrain-rmse:0.841136\tVal-rmse:0.851071\n",
      "[291]\tTrain-rmse:0.841049\tVal-rmse:0.851005\n",
      "[292]\tTrain-rmse:0.84095\tVal-rmse:0.850935\n",
      "[293]\tTrain-rmse:0.840871\tVal-rmse:0.850895\n",
      "[294]\tTrain-rmse:0.840682\tVal-rmse:0.850698\n",
      "[295]\tTrain-rmse:0.84064\tVal-rmse:0.850683\n",
      "[296]\tTrain-rmse:0.840499\tVal-rmse:0.850584\n",
      "[297]\tTrain-rmse:0.840307\tVal-rmse:0.850435\n",
      "[298]\tTrain-rmse:0.84027\tVal-rmse:0.850418\n",
      "[299]\tTrain-rmse:0.840262\tVal-rmse:0.850418\n",
      "[300]\tTrain-rmse:0.840146\tVal-rmse:0.850329\n",
      "[301]\tTrain-rmse:0.840031\tVal-rmse:0.85026\n",
      "[302]\tTrain-rmse:0.839911\tVal-rmse:0.850177\n",
      "[303]\tTrain-rmse:0.839854\tVal-rmse:0.850144\n",
      "[304]\tTrain-rmse:0.839732\tVal-rmse:0.850049\n",
      "[305]\tTrain-rmse:0.839693\tVal-rmse:0.850028\n",
      "[306]\tTrain-rmse:0.839567\tVal-rmse:0.849942\n",
      "[307]\tTrain-rmse:0.839487\tVal-rmse:0.849904\n",
      "[308]\tTrain-rmse:0.839338\tVal-rmse:0.849787\n",
      "[309]\tTrain-rmse:0.839213\tVal-rmse:0.8497\n",
      "[310]\tTrain-rmse:0.839165\tVal-rmse:0.849675\n",
      "[311]\tTrain-rmse:0.839001\tVal-rmse:0.849561\n",
      "[312]\tTrain-rmse:0.838889\tVal-rmse:0.849494\n",
      "[313]\tTrain-rmse:0.838772\tVal-rmse:0.849388\n",
      "[314]\tTrain-rmse:0.838708\tVal-rmse:0.849329\n",
      "[315]\tTrain-rmse:0.838653\tVal-rmse:0.849291\n",
      "[316]\tTrain-rmse:0.83857\tVal-rmse:0.849251\n",
      "[317]\tTrain-rmse:0.838298\tVal-rmse:0.849023\n",
      "[318]\tTrain-rmse:0.838215\tVal-rmse:0.848979\n",
      "[319]\tTrain-rmse:0.838112\tVal-rmse:0.848917\n",
      "[320]\tTrain-rmse:0.837994\tVal-rmse:0.848847\n",
      "[321]\tTrain-rmse:0.837832\tVal-rmse:0.84874\n",
      "[322]\tTrain-rmse:0.837588\tVal-rmse:0.848504\n",
      "[323]\tTrain-rmse:0.837482\tVal-rmse:0.848441\n",
      "[324]\tTrain-rmse:0.837351\tVal-rmse:0.848347\n",
      "[325]\tTrain-rmse:0.837233\tVal-rmse:0.848227\n",
      "[326]\tTrain-rmse:0.837087\tVal-rmse:0.848111\n",
      "[327]\tTrain-rmse:0.837015\tVal-rmse:0.848045\n",
      "[328]\tTrain-rmse:0.836977\tVal-rmse:0.848038\n",
      "[329]\tTrain-rmse:0.836879\tVal-rmse:0.847975\n",
      "[330]\tTrain-rmse:0.836802\tVal-rmse:0.847904\n",
      "[331]\tTrain-rmse:0.836734\tVal-rmse:0.847857\n",
      "[332]\tTrain-rmse:0.836618\tVal-rmse:0.847762\n",
      "[333]\tTrain-rmse:0.836531\tVal-rmse:0.847728\n",
      "[334]\tTrain-rmse:0.836492\tVal-rmse:0.84772\n",
      "[335]\tTrain-rmse:0.836239\tVal-rmse:0.84749\n",
      "[336]\tTrain-rmse:0.836114\tVal-rmse:0.8474\n",
      "[337]\tTrain-rmse:0.836024\tVal-rmse:0.847341\n",
      "[338]\tTrain-rmse:0.835988\tVal-rmse:0.847324\n",
      "[339]\tTrain-rmse:0.835949\tVal-rmse:0.847307\n",
      "[340]\tTrain-rmse:0.835866\tVal-rmse:0.847234\n",
      "[341]\tTrain-rmse:0.835826\tVal-rmse:0.847216\n",
      "[342]\tTrain-rmse:0.83571\tVal-rmse:0.847132\n",
      "[343]\tTrain-rmse:0.835627\tVal-rmse:0.847086\n",
      "[344]\tTrain-rmse:0.835551\tVal-rmse:0.847034\n",
      "[345]\tTrain-rmse:0.83553\tVal-rmse:0.847026\n",
      "[346]\tTrain-rmse:0.83549\tVal-rmse:0.847\n",
      "[347]\tTrain-rmse:0.835339\tVal-rmse:0.846887\n",
      "[348]\tTrain-rmse:0.835288\tVal-rmse:0.846848\n",
      "[349]\tTrain-rmse:0.835197\tVal-rmse:0.846792\n",
      "[350]\tTrain-rmse:0.8351\tVal-rmse:0.846731\n",
      "[351]\tTrain-rmse:0.834945\tVal-rmse:0.846619\n",
      "[352]\tTrain-rmse:0.834892\tVal-rmse:0.846607\n",
      "[353]\tTrain-rmse:0.834799\tVal-rmse:0.846552\n",
      "[354]\tTrain-rmse:0.834763\tVal-rmse:0.846538\n",
      "[355]\tTrain-rmse:0.834677\tVal-rmse:0.846485\n",
      "[356]\tTrain-rmse:0.834611\tVal-rmse:0.846455\n",
      "[357]\tTrain-rmse:0.834529\tVal-rmse:0.846396\n",
      "[358]\tTrain-rmse:0.834432\tVal-rmse:0.846348\n",
      "[359]\tTrain-rmse:0.834333\tVal-rmse:0.84628\n",
      "[360]\tTrain-rmse:0.834282\tVal-rmse:0.846244\n",
      "[361]\tTrain-rmse:0.834219\tVal-rmse:0.846214\n",
      "[362]\tTrain-rmse:0.834159\tVal-rmse:0.846182\n",
      "[363]\tTrain-rmse:0.834124\tVal-rmse:0.846181\n",
      "[364]\tTrain-rmse:0.834038\tVal-rmse:0.846103\n",
      "[365]\tTrain-rmse:0.833851\tVal-rmse:0.845923\n",
      "[366]\tTrain-rmse:0.833782\tVal-rmse:0.845898\n",
      "[367]\tTrain-rmse:0.833717\tVal-rmse:0.84585\n",
      "[368]\tTrain-rmse:0.83367\tVal-rmse:0.845833\n",
      "[369]\tTrain-rmse:0.833588\tVal-rmse:0.845779\n",
      "[370]\tTrain-rmse:0.833448\tVal-rmse:0.845665\n",
      "[371]\tTrain-rmse:0.833409\tVal-rmse:0.845639\n"
     ]
    },
    {
     "name": "stdout",
     "output_type": "stream",
     "text": [
      "[372]\tTrain-rmse:0.833342\tVal-rmse:0.845616\n",
      "[373]\tTrain-rmse:0.833283\tVal-rmse:0.845611\n",
      "[374]\tTrain-rmse:0.833255\tVal-rmse:0.845602\n",
      "[375]\tTrain-rmse:0.833195\tVal-rmse:0.845587\n",
      "[376]\tTrain-rmse:0.833143\tVal-rmse:0.845541\n",
      "[377]\tTrain-rmse:0.833089\tVal-rmse:0.845533\n",
      "[378]\tTrain-rmse:0.832957\tVal-rmse:0.845419\n",
      "[379]\tTrain-rmse:0.832621\tVal-rmse:0.84513\n",
      "[380]\tTrain-rmse:0.832491\tVal-rmse:0.845037\n",
      "[381]\tTrain-rmse:0.832399\tVal-rmse:0.844955\n",
      "[382]\tTrain-rmse:0.832387\tVal-rmse:0.844949\n",
      "[383]\tTrain-rmse:0.832317\tVal-rmse:0.844901\n",
      "[384]\tTrain-rmse:0.832251\tVal-rmse:0.844844\n",
      "[385]\tTrain-rmse:0.832196\tVal-rmse:0.844806\n",
      "[386]\tTrain-rmse:0.83213\tVal-rmse:0.844767\n",
      "[387]\tTrain-rmse:0.832074\tVal-rmse:0.844726\n",
      "[388]\tTrain-rmse:0.832028\tVal-rmse:0.844695\n",
      "[389]\tTrain-rmse:0.831979\tVal-rmse:0.844684\n",
      "[390]\tTrain-rmse:0.831952\tVal-rmse:0.844676\n",
      "[391]\tTrain-rmse:0.831848\tVal-rmse:0.844593\n",
      "[392]\tTrain-rmse:0.831326\tVal-rmse:0.844104\n",
      "[393]\tTrain-rmse:0.831261\tVal-rmse:0.844055\n",
      "[394]\tTrain-rmse:0.831209\tVal-rmse:0.844027\n",
      "[395]\tTrain-rmse:0.83108\tVal-rmse:0.843947\n",
      "[396]\tTrain-rmse:0.831011\tVal-rmse:0.843902\n",
      "[397]\tTrain-rmse:0.83096\tVal-rmse:0.843861\n",
      "[398]\tTrain-rmse:0.830887\tVal-rmse:0.84379\n",
      "[399]\tTrain-rmse:0.830791\tVal-rmse:0.8437\n",
      "[400]\tTrain-rmse:0.830649\tVal-rmse:0.843588\n",
      "[401]\tTrain-rmse:0.830594\tVal-rmse:0.843544\n",
      "[402]\tTrain-rmse:0.830476\tVal-rmse:0.843453\n",
      "[403]\tTrain-rmse:0.830402\tVal-rmse:0.843405\n",
      "[404]\tTrain-rmse:0.830319\tVal-rmse:0.843348\n",
      "[405]\tTrain-rmse:0.830259\tVal-rmse:0.84331\n",
      "[406]\tTrain-rmse:0.830208\tVal-rmse:0.843287\n",
      "[407]\tTrain-rmse:0.830148\tVal-rmse:0.843259\n",
      "[408]\tTrain-rmse:0.83012\tVal-rmse:0.843255\n",
      "[409]\tTrain-rmse:0.830072\tVal-rmse:0.843227\n",
      "[410]\tTrain-rmse:0.83003\tVal-rmse:0.843206\n",
      "[411]\tTrain-rmse:0.829986\tVal-rmse:0.843185\n",
      "[412]\tTrain-rmse:0.829863\tVal-rmse:0.843112\n",
      "[413]\tTrain-rmse:0.82979\tVal-rmse:0.843054\n",
      "[414]\tTrain-rmse:0.829551\tVal-rmse:0.842839\n",
      "[415]\tTrain-rmse:0.82922\tVal-rmse:0.842524\n",
      "[416]\tTrain-rmse:0.829142\tVal-rmse:0.842463\n",
      "[417]\tTrain-rmse:0.829095\tVal-rmse:0.842443\n",
      "[418]\tTrain-rmse:0.829021\tVal-rmse:0.842393\n",
      "[419]\tTrain-rmse:0.828979\tVal-rmse:0.842387\n",
      "[420]\tTrain-rmse:0.82883\tVal-rmse:0.84229\n",
      "[421]\tTrain-rmse:0.828763\tVal-rmse:0.842223\n",
      "[422]\tTrain-rmse:0.828725\tVal-rmse:0.8422\n",
      "[423]\tTrain-rmse:0.828676\tVal-rmse:0.842182\n",
      "[424]\tTrain-rmse:0.828596\tVal-rmse:0.842119\n",
      "[425]\tTrain-rmse:0.828519\tVal-rmse:0.842058\n",
      "[426]\tTrain-rmse:0.828426\tVal-rmse:0.841988\n",
      "[427]\tTrain-rmse:0.828364\tVal-rmse:0.841974\n",
      "[428]\tTrain-rmse:0.82834\tVal-rmse:0.841952\n",
      "[429]\tTrain-rmse:0.82818\tVal-rmse:0.841817\n",
      "[430]\tTrain-rmse:0.828077\tVal-rmse:0.841736\n",
      "[431]\tTrain-rmse:0.827569\tVal-rmse:0.841235\n",
      "[432]\tTrain-rmse:0.827495\tVal-rmse:0.841168\n",
      "[433]\tTrain-rmse:0.82735\tVal-rmse:0.841023\n",
      "[434]\tTrain-rmse:0.827075\tVal-rmse:0.840843\n",
      "[435]\tTrain-rmse:0.826997\tVal-rmse:0.840787\n",
      "[436]\tTrain-rmse:0.82689\tVal-rmse:0.840687\n",
      "[437]\tTrain-rmse:0.826863\tVal-rmse:0.840688\n",
      "[438]\tTrain-rmse:0.82659\tVal-rmse:0.84044\n",
      "[439]\tTrain-rmse:0.826463\tVal-rmse:0.840335\n",
      "[440]\tTrain-rmse:0.82639\tVal-rmse:0.840296\n",
      "[441]\tTrain-rmse:0.826295\tVal-rmse:0.840243\n",
      "[442]\tTrain-rmse:0.826218\tVal-rmse:0.840178\n",
      "[443]\tTrain-rmse:0.825961\tVal-rmse:0.839947\n",
      "[444]\tTrain-rmse:0.825791\tVal-rmse:0.839814\n",
      "[445]\tTrain-rmse:0.825726\tVal-rmse:0.839768\n",
      "[446]\tTrain-rmse:0.825675\tVal-rmse:0.839719\n",
      "[447]\tTrain-rmse:0.825635\tVal-rmse:0.839698\n",
      "[448]\tTrain-rmse:0.825533\tVal-rmse:0.839612\n",
      "[449]\tTrain-rmse:0.82549\tVal-rmse:0.839589\n",
      "[450]\tTrain-rmse:0.825444\tVal-rmse:0.839562\n",
      "[451]\tTrain-rmse:0.825371\tVal-rmse:0.839528\n",
      "[452]\tTrain-rmse:0.82533\tVal-rmse:0.839513\n",
      "[453]\tTrain-rmse:0.825249\tVal-rmse:0.839472\n",
      "[454]\tTrain-rmse:0.825201\tVal-rmse:0.839431\n",
      "[455]\tTrain-rmse:0.825131\tVal-rmse:0.839408\n",
      "[456]\tTrain-rmse:0.825059\tVal-rmse:0.839373\n",
      "[457]\tTrain-rmse:0.825012\tVal-rmse:0.83935\n",
      "[458]\tTrain-rmse:0.824896\tVal-rmse:0.839243\n",
      "[459]\tTrain-rmse:0.824816\tVal-rmse:0.839185\n",
      "[460]\tTrain-rmse:0.824315\tVal-rmse:0.838806\n",
      "[461]\tTrain-rmse:0.824096\tVal-rmse:0.838611\n",
      "[462]\tTrain-rmse:0.824005\tVal-rmse:0.838551\n",
      "[463]\tTrain-rmse:0.823881\tVal-rmse:0.838473\n",
      "[464]\tTrain-rmse:0.82382\tVal-rmse:0.838447\n",
      "[465]\tTrain-rmse:0.823769\tVal-rmse:0.838431\n",
      "[466]\tTrain-rmse:0.823677\tVal-rmse:0.838349\n",
      "[467]\tTrain-rmse:0.823567\tVal-rmse:0.838271\n",
      "[468]\tTrain-rmse:0.823358\tVal-rmse:0.838084\n",
      "[469]\tTrain-rmse:0.823097\tVal-rmse:0.837872\n",
      "[470]\tTrain-rmse:0.822957\tVal-rmse:0.837744\n",
      "[471]\tTrain-rmse:0.822872\tVal-rmse:0.837682\n",
      "[472]\tTrain-rmse:0.82283\tVal-rmse:0.837664\n",
      "[473]\tTrain-rmse:0.822771\tVal-rmse:0.837618\n",
      "[474]\tTrain-rmse:0.82263\tVal-rmse:0.837496\n",
      "[475]\tTrain-rmse:0.822554\tVal-rmse:0.837428\n",
      "[476]\tTrain-rmse:0.822549\tVal-rmse:0.837428\n",
      "[477]\tTrain-rmse:0.822496\tVal-rmse:0.837393\n",
      "[478]\tTrain-rmse:0.822436\tVal-rmse:0.837369\n",
      "[479]\tTrain-rmse:0.822401\tVal-rmse:0.837361\n",
      "[480]\tTrain-rmse:0.822365\tVal-rmse:0.837345\n",
      "[481]\tTrain-rmse:0.822258\tVal-rmse:0.837287\n",
      "[482]\tTrain-rmse:0.822074\tVal-rmse:0.837116\n",
      "[483]\tTrain-rmse:0.822012\tVal-rmse:0.837086\n",
      "[484]\tTrain-rmse:0.821835\tVal-rmse:0.836962\n",
      "[485]\tTrain-rmse:0.821527\tVal-rmse:0.83671\n",
      "[486]\tTrain-rmse:0.821512\tVal-rmse:0.836706\n",
      "[487]\tTrain-rmse:0.821424\tVal-rmse:0.836635\n",
      "[488]\tTrain-rmse:0.821392\tVal-rmse:0.836637\n",
      "[489]\tTrain-rmse:0.821317\tVal-rmse:0.836596\n",
      "[490]\tTrain-rmse:0.820947\tVal-rmse:0.836251\n",
      "[491]\tTrain-rmse:0.820889\tVal-rmse:0.836217\n",
      "[492]\tTrain-rmse:0.820844\tVal-rmse:0.836179\n",
      "[493]\tTrain-rmse:0.820635\tVal-rmse:0.836028\n",
      "[494]\tTrain-rmse:0.820581\tVal-rmse:0.835996\n",
      "[495]\tTrain-rmse:0.820525\tVal-rmse:0.835973\n",
      "[496]\tTrain-rmse:0.820417\tVal-rmse:0.835901\n",
      "[497]\tTrain-rmse:0.820267\tVal-rmse:0.835798\n",
      "[498]\tTrain-rmse:0.820202\tVal-rmse:0.835783\n",
      "[499]\tTrain-rmse:0.820129\tVal-rmse:0.835731\n",
      "[500]\tTrain-rmse:0.820095\tVal-rmse:0.835699\n",
      "[501]\tTrain-rmse:0.820029\tVal-rmse:0.835655\n",
      "[502]\tTrain-rmse:0.819978\tVal-rmse:0.835613\n",
      "[503]\tTrain-rmse:0.819962\tVal-rmse:0.835606\n",
      "[504]\tTrain-rmse:0.819769\tVal-rmse:0.835428\n",
      "[505]\tTrain-rmse:0.819686\tVal-rmse:0.835388\n",
      "[506]\tTrain-rmse:0.819626\tVal-rmse:0.835336\n",
      "[507]\tTrain-rmse:0.819616\tVal-rmse:0.835339\n",
      "[508]\tTrain-rmse:0.819523\tVal-rmse:0.835262\n",
      "[509]\tTrain-rmse:0.819418\tVal-rmse:0.83516\n",
      "[510]\tTrain-rmse:0.819373\tVal-rmse:0.835138\n",
      "[511]\tTrain-rmse:0.819283\tVal-rmse:0.835078\n",
      "[512]\tTrain-rmse:0.819222\tVal-rmse:0.835049\n",
      "[513]\tTrain-rmse:0.819144\tVal-rmse:0.835\n",
      "[514]\tTrain-rmse:0.819085\tVal-rmse:0.834982\n",
      "[515]\tTrain-rmse:0.819015\tVal-rmse:0.834932\n",
      "[516]\tTrain-rmse:0.818984\tVal-rmse:0.834918\n",
      "[517]\tTrain-rmse:0.818925\tVal-rmse:0.834885\n",
      "[518]\tTrain-rmse:0.818882\tVal-rmse:0.834859\n",
      "[519]\tTrain-rmse:0.81881\tVal-rmse:0.834798\n",
      "[520]\tTrain-rmse:0.818757\tVal-rmse:0.834769\n",
      "[521]\tTrain-rmse:0.818743\tVal-rmse:0.83477\n",
      "[522]\tTrain-rmse:0.818691\tVal-rmse:0.834734\n",
      "[523]\tTrain-rmse:0.818633\tVal-rmse:0.834688\n",
      "[524]\tTrain-rmse:0.818543\tVal-rmse:0.834627\n",
      "[525]\tTrain-rmse:0.818489\tVal-rmse:0.834583\n",
      "[526]\tTrain-rmse:0.818424\tVal-rmse:0.83453\n",
      "[527]\tTrain-rmse:0.818383\tVal-rmse:0.834507\n",
      "[528]\tTrain-rmse:0.818248\tVal-rmse:0.834369\n",
      "[529]\tTrain-rmse:0.818187\tVal-rmse:0.834326\n",
      "[530]\tTrain-rmse:0.818096\tVal-rmse:0.834245\n",
      "[531]\tTrain-rmse:0.818051\tVal-rmse:0.834209\n",
      "[532]\tTrain-rmse:0.817957\tVal-rmse:0.834143\n",
      "[533]\tTrain-rmse:0.817921\tVal-rmse:0.834151\n",
      "[534]\tTrain-rmse:0.81788\tVal-rmse:0.834127\n",
      "[535]\tTrain-rmse:0.817825\tVal-rmse:0.83411\n",
      "[536]\tTrain-rmse:0.817604\tVal-rmse:0.833888\n",
      "[537]\tTrain-rmse:0.817568\tVal-rmse:0.833876\n",
      "[538]\tTrain-rmse:0.817543\tVal-rmse:0.833882\n",
      "[539]\tTrain-rmse:0.817447\tVal-rmse:0.833789\n",
      "[540]\tTrain-rmse:0.817412\tVal-rmse:0.833782\n",
      "[541]\tTrain-rmse:0.817382\tVal-rmse:0.833768\n",
      "[542]\tTrain-rmse:0.817354\tVal-rmse:0.833754\n",
      "[543]\tTrain-rmse:0.817298\tVal-rmse:0.833723\n",
      "[544]\tTrain-rmse:0.817178\tVal-rmse:0.833612\n",
      "[545]\tTrain-rmse:0.817061\tVal-rmse:0.833507\n",
      "[546]\tTrain-rmse:0.816995\tVal-rmse:0.833478\n",
      "[547]\tTrain-rmse:0.816946\tVal-rmse:0.833448\n",
      "[548]\tTrain-rmse:0.816856\tVal-rmse:0.833374\n",
      "[549]\tTrain-rmse:0.816753\tVal-rmse:0.833293\n",
      "[550]\tTrain-rmse:0.816724\tVal-rmse:0.833289\n",
      "[551]\tTrain-rmse:0.816697\tVal-rmse:0.833284\n",
      "[552]\tTrain-rmse:0.816632\tVal-rmse:0.833253\n",
      "[553]\tTrain-rmse:0.816585\tVal-rmse:0.833243\n",
      "[554]\tTrain-rmse:0.816544\tVal-rmse:0.833227\n",
      "[555]\tTrain-rmse:0.816488\tVal-rmse:0.833194\n",
      "[556]\tTrain-rmse:0.816451\tVal-rmse:0.833178\n",
      "[557]\tTrain-rmse:0.816398\tVal-rmse:0.833146\n",
      "[558]\tTrain-rmse:0.816365\tVal-rmse:0.833138\n",
      "[559]\tTrain-rmse:0.816299\tVal-rmse:0.833102\n"
     ]
    },
    {
     "name": "stdout",
     "output_type": "stream",
     "text": [
      "[560]\tTrain-rmse:0.816241\tVal-rmse:0.833054\n",
      "[561]\tTrain-rmse:0.816217\tVal-rmse:0.83306\n",
      "[562]\tTrain-rmse:0.816169\tVal-rmse:0.833032\n",
      "[563]\tTrain-rmse:0.816085\tVal-rmse:0.832974\n",
      "[564]\tTrain-rmse:0.816054\tVal-rmse:0.832962\n",
      "[565]\tTrain-rmse:0.815982\tVal-rmse:0.832943\n",
      "[566]\tTrain-rmse:0.815919\tVal-rmse:0.832922\n",
      "[567]\tTrain-rmse:0.815909\tVal-rmse:0.832921\n",
      "[568]\tTrain-rmse:0.815854\tVal-rmse:0.832881\n",
      "[569]\tTrain-rmse:0.815659\tVal-rmse:0.83269\n",
      "[570]\tTrain-rmse:0.815614\tVal-rmse:0.832669\n",
      "[571]\tTrain-rmse:0.815588\tVal-rmse:0.832652\n",
      "[572]\tTrain-rmse:0.815496\tVal-rmse:0.832591\n",
      "[573]\tTrain-rmse:0.815454\tVal-rmse:0.832576\n",
      "[574]\tTrain-rmse:0.815345\tVal-rmse:0.832498\n",
      "[575]\tTrain-rmse:0.815293\tVal-rmse:0.832467\n",
      "[576]\tTrain-rmse:0.814688\tVal-rmse:0.831926\n",
      "[577]\tTrain-rmse:0.814595\tVal-rmse:0.831839\n",
      "[578]\tTrain-rmse:0.814551\tVal-rmse:0.831817\n",
      "[579]\tTrain-rmse:0.814505\tVal-rmse:0.831776\n",
      "[580]\tTrain-rmse:0.814484\tVal-rmse:0.831771\n",
      "[581]\tTrain-rmse:0.814436\tVal-rmse:0.831748\n",
      "[582]\tTrain-rmse:0.814341\tVal-rmse:0.831648\n",
      "[583]\tTrain-rmse:0.814293\tVal-rmse:0.831609\n",
      "[584]\tTrain-rmse:0.814239\tVal-rmse:0.831574\n",
      "[585]\tTrain-rmse:0.814197\tVal-rmse:0.83156\n",
      "[586]\tTrain-rmse:0.814124\tVal-rmse:0.831498\n",
      "[587]\tTrain-rmse:0.814085\tVal-rmse:0.831466\n",
      "[588]\tTrain-rmse:0.814048\tVal-rmse:0.83145\n",
      "[589]\tTrain-rmse:0.814007\tVal-rmse:0.831437\n",
      "[590]\tTrain-rmse:0.813945\tVal-rmse:0.831394\n",
      "[591]\tTrain-rmse:0.813922\tVal-rmse:0.831382\n",
      "[592]\tTrain-rmse:0.813871\tVal-rmse:0.831347\n",
      "[593]\tTrain-rmse:0.813837\tVal-rmse:0.831326\n",
      "[594]\tTrain-rmse:0.813753\tVal-rmse:0.831264\n",
      "[595]\tTrain-rmse:0.81371\tVal-rmse:0.83124\n",
      "[596]\tTrain-rmse:0.813681\tVal-rmse:0.83123\n",
      "[597]\tTrain-rmse:0.813641\tVal-rmse:0.831211\n",
      "[598]\tTrain-rmse:0.813553\tVal-rmse:0.831129\n",
      "[599]\tTrain-rmse:0.813333\tVal-rmse:0.830927\n",
      "[600]\tTrain-rmse:0.813273\tVal-rmse:0.830908\n",
      "[601]\tTrain-rmse:0.813216\tVal-rmse:0.830879\n",
      "[602]\tTrain-rmse:0.813177\tVal-rmse:0.830852\n",
      "[603]\tTrain-rmse:0.813128\tVal-rmse:0.830817\n",
      "[604]\tTrain-rmse:0.813111\tVal-rmse:0.830814\n",
      "[605]\tTrain-rmse:0.813086\tVal-rmse:0.8308\n",
      "[606]\tTrain-rmse:0.813047\tVal-rmse:0.830775\n",
      "[607]\tTrain-rmse:0.812932\tVal-rmse:0.830689\n",
      "[608]\tTrain-rmse:0.812866\tVal-rmse:0.83064\n",
      "[609]\tTrain-rmse:0.812807\tVal-rmse:0.830597\n",
      "[610]\tTrain-rmse:0.812771\tVal-rmse:0.830569\n",
      "[611]\tTrain-rmse:0.812735\tVal-rmse:0.830548\n",
      "[612]\tTrain-rmse:0.812686\tVal-rmse:0.830542\n",
      "[613]\tTrain-rmse:0.812623\tVal-rmse:0.830513\n",
      "[614]\tTrain-rmse:0.812583\tVal-rmse:0.830523\n",
      "[615]\tTrain-rmse:0.812556\tVal-rmse:0.830498\n",
      "[616]\tTrain-rmse:0.812504\tVal-rmse:0.830447\n",
      "[617]\tTrain-rmse:0.812476\tVal-rmse:0.830447\n",
      "[618]\tTrain-rmse:0.81244\tVal-rmse:0.83043\n",
      "[619]\tTrain-rmse:0.812404\tVal-rmse:0.830397\n",
      "[620]\tTrain-rmse:0.812374\tVal-rmse:0.83038\n",
      "[621]\tTrain-rmse:0.812285\tVal-rmse:0.8303\n",
      "[622]\tTrain-rmse:0.81219\tVal-rmse:0.830224\n",
      "[623]\tTrain-rmse:0.811924\tVal-rmse:0.829961\n",
      "[624]\tTrain-rmse:0.81187\tVal-rmse:0.829924\n",
      "[625]\tTrain-rmse:0.811818\tVal-rmse:0.829889\n",
      "[626]\tTrain-rmse:0.811786\tVal-rmse:0.829865\n",
      "[627]\tTrain-rmse:0.811743\tVal-rmse:0.82985\n",
      "[628]\tTrain-rmse:0.811659\tVal-rmse:0.829805\n",
      "[629]\tTrain-rmse:0.811607\tVal-rmse:0.829769\n",
      "[630]\tTrain-rmse:0.811521\tVal-rmse:0.829704\n",
      "[631]\tTrain-rmse:0.811425\tVal-rmse:0.82962\n",
      "[632]\tTrain-rmse:0.811393\tVal-rmse:0.829604\n",
      "[633]\tTrain-rmse:0.811359\tVal-rmse:0.829601\n",
      "[634]\tTrain-rmse:0.811203\tVal-rmse:0.829476\n",
      "[635]\tTrain-rmse:0.811125\tVal-rmse:0.829441\n",
      "[636]\tTrain-rmse:0.811079\tVal-rmse:0.829412\n",
      "[637]\tTrain-rmse:0.811046\tVal-rmse:0.829413\n",
      "[638]\tTrain-rmse:0.810977\tVal-rmse:0.829351\n",
      "[639]\tTrain-rmse:0.810947\tVal-rmse:0.82935\n",
      "[640]\tTrain-rmse:0.810903\tVal-rmse:0.829324\n",
      "[641]\tTrain-rmse:0.810841\tVal-rmse:0.829274\n",
      "[642]\tTrain-rmse:0.810789\tVal-rmse:0.829237\n",
      "[643]\tTrain-rmse:0.810759\tVal-rmse:0.829222\n",
      "[644]\tTrain-rmse:0.810732\tVal-rmse:0.829203\n",
      "[645]\tTrain-rmse:0.810643\tVal-rmse:0.829137\n",
      "[646]\tTrain-rmse:0.810589\tVal-rmse:0.829101\n",
      "[647]\tTrain-rmse:0.810431\tVal-rmse:0.82895\n",
      "[648]\tTrain-rmse:0.810316\tVal-rmse:0.828859\n",
      "[649]\tTrain-rmse:0.810251\tVal-rmse:0.828792\n",
      "[650]\tTrain-rmse:0.810195\tVal-rmse:0.828747\n",
      "[651]\tTrain-rmse:0.810177\tVal-rmse:0.828745\n",
      "[652]\tTrain-rmse:0.810162\tVal-rmse:0.828735\n",
      "[653]\tTrain-rmse:0.810113\tVal-rmse:0.828725\n",
      "[654]\tTrain-rmse:0.810046\tVal-rmse:0.828682\n",
      "[655]\tTrain-rmse:0.809891\tVal-rmse:0.828571\n",
      "[656]\tTrain-rmse:0.809807\tVal-rmse:0.828499\n",
      "[657]\tTrain-rmse:0.809596\tVal-rmse:0.828265\n",
      "[658]\tTrain-rmse:0.809527\tVal-rmse:0.828203\n",
      "[659]\tTrain-rmse:0.809492\tVal-rmse:0.828181\n",
      "[660]\tTrain-rmse:0.809446\tVal-rmse:0.828161\n",
      "[661]\tTrain-rmse:0.809389\tVal-rmse:0.828115\n",
      "[662]\tTrain-rmse:0.809346\tVal-rmse:0.8281\n",
      "[663]\tTrain-rmse:0.809288\tVal-rmse:0.828046\n",
      "[664]\tTrain-rmse:0.809242\tVal-rmse:0.828022\n",
      "[665]\tTrain-rmse:0.809188\tVal-rmse:0.827993\n",
      "[666]\tTrain-rmse:0.809125\tVal-rmse:0.827951\n",
      "[667]\tTrain-rmse:0.80908\tVal-rmse:0.827934\n",
      "[668]\tTrain-rmse:0.809028\tVal-rmse:0.827909\n",
      "[669]\tTrain-rmse:0.808814\tVal-rmse:0.827687\n",
      "[670]\tTrain-rmse:0.808766\tVal-rmse:0.827654\n",
      "[671]\tTrain-rmse:0.808534\tVal-rmse:0.827464\n",
      "[672]\tTrain-rmse:0.808492\tVal-rmse:0.827442\n",
      "[673]\tTrain-rmse:0.80846\tVal-rmse:0.827423\n",
      "[674]\tTrain-rmse:0.808425\tVal-rmse:0.827404\n",
      "[675]\tTrain-rmse:0.808381\tVal-rmse:0.82738\n",
      "[676]\tTrain-rmse:0.808341\tVal-rmse:0.827356\n",
      "[677]\tTrain-rmse:0.808306\tVal-rmse:0.827337\n",
      "[678]\tTrain-rmse:0.808252\tVal-rmse:0.827299\n",
      "[679]\tTrain-rmse:0.808227\tVal-rmse:0.827286\n",
      "[680]\tTrain-rmse:0.80819\tVal-rmse:0.827263\n",
      "[681]\tTrain-rmse:0.808161\tVal-rmse:0.827246\n",
      "[682]\tTrain-rmse:0.808124\tVal-rmse:0.82724\n",
      "[683]\tTrain-rmse:0.808091\tVal-rmse:0.827225\n",
      "[684]\tTrain-rmse:0.807971\tVal-rmse:0.827143\n",
      "[685]\tTrain-rmse:0.80786\tVal-rmse:0.827036\n",
      "[686]\tTrain-rmse:0.807836\tVal-rmse:0.827029\n",
      "[687]\tTrain-rmse:0.807806\tVal-rmse:0.827025\n",
      "[688]\tTrain-rmse:0.807757\tVal-rmse:0.826985\n",
      "[689]\tTrain-rmse:0.807732\tVal-rmse:0.826996\n",
      "[690]\tTrain-rmse:0.807693\tVal-rmse:0.826981\n",
      "[691]\tTrain-rmse:0.807673\tVal-rmse:0.826971\n",
      "[692]\tTrain-rmse:0.807593\tVal-rmse:0.826918\n",
      "[693]\tTrain-rmse:0.807558\tVal-rmse:0.8269\n",
      "[694]\tTrain-rmse:0.807508\tVal-rmse:0.826865\n",
      "[695]\tTrain-rmse:0.80747\tVal-rmse:0.826833\n",
      "[696]\tTrain-rmse:0.807435\tVal-rmse:0.82682\n",
      "[697]\tTrain-rmse:0.807372\tVal-rmse:0.826792\n",
      "[698]\tTrain-rmse:0.807336\tVal-rmse:0.826771\n",
      "[699]\tTrain-rmse:0.807301\tVal-rmse:0.826751\n",
      "[700]\tTrain-rmse:0.807269\tVal-rmse:0.826743\n",
      "[701]\tTrain-rmse:0.807235\tVal-rmse:0.826733\n",
      "[702]\tTrain-rmse:0.80709\tVal-rmse:0.826595\n",
      "[703]\tTrain-rmse:0.80706\tVal-rmse:0.8266\n",
      "[704]\tTrain-rmse:0.806941\tVal-rmse:0.8265\n",
      "[705]\tTrain-rmse:0.806752\tVal-rmse:0.826374\n",
      "[706]\tTrain-rmse:0.806711\tVal-rmse:0.826351\n",
      "[707]\tTrain-rmse:0.806679\tVal-rmse:0.826336\n",
      "[708]\tTrain-rmse:0.806632\tVal-rmse:0.826305\n",
      "[709]\tTrain-rmse:0.806219\tVal-rmse:0.825964\n",
      "[710]\tTrain-rmse:0.806148\tVal-rmse:0.825934\n",
      "[711]\tTrain-rmse:0.806099\tVal-rmse:0.825895\n",
      "[712]\tTrain-rmse:0.806025\tVal-rmse:0.825854\n",
      "[713]\tTrain-rmse:0.80597\tVal-rmse:0.825806\n",
      "[714]\tTrain-rmse:0.805933\tVal-rmse:0.825792\n",
      "[715]\tTrain-rmse:0.805888\tVal-rmse:0.825782\n",
      "[716]\tTrain-rmse:0.805797\tVal-rmse:0.82571\n",
      "[717]\tTrain-rmse:0.805768\tVal-rmse:0.825704\n",
      "[718]\tTrain-rmse:0.805553\tVal-rmse:0.825497\n",
      "[719]\tTrain-rmse:0.805519\tVal-rmse:0.825485\n",
      "[720]\tTrain-rmse:0.805344\tVal-rmse:0.82532\n",
      "[721]\tTrain-rmse:0.805259\tVal-rmse:0.825265\n",
      "[722]\tTrain-rmse:0.805192\tVal-rmse:0.825208\n",
      "[723]\tTrain-rmse:0.805152\tVal-rmse:0.825184\n",
      "[724]\tTrain-rmse:0.805135\tVal-rmse:0.825175\n",
      "[725]\tTrain-rmse:0.805091\tVal-rmse:0.825145\n",
      "[726]\tTrain-rmse:0.804989\tVal-rmse:0.825054\n",
      "[727]\tTrain-rmse:0.804921\tVal-rmse:0.824995\n",
      "[728]\tTrain-rmse:0.804875\tVal-rmse:0.824971\n",
      "[729]\tTrain-rmse:0.804838\tVal-rmse:0.824964\n",
      "[730]\tTrain-rmse:0.804788\tVal-rmse:0.824927\n",
      "[731]\tTrain-rmse:0.80472\tVal-rmse:0.824882\n",
      "[732]\tTrain-rmse:0.804697\tVal-rmse:0.824873\n",
      "[733]\tTrain-rmse:0.804668\tVal-rmse:0.824872\n",
      "[734]\tTrain-rmse:0.804626\tVal-rmse:0.824859\n",
      "[735]\tTrain-rmse:0.80452\tVal-rmse:0.824803\n",
      "[736]\tTrain-rmse:0.804349\tVal-rmse:0.824698\n",
      "[737]\tTrain-rmse:0.804316\tVal-rmse:0.824686\n",
      "[738]\tTrain-rmse:0.804289\tVal-rmse:0.824672\n",
      "[739]\tTrain-rmse:0.804253\tVal-rmse:0.824666\n",
      "[740]\tTrain-rmse:0.804234\tVal-rmse:0.824659\n",
      "[741]\tTrain-rmse:0.804202\tVal-rmse:0.824656\n",
      "[742]\tTrain-rmse:0.804105\tVal-rmse:0.824561\n",
      "[743]\tTrain-rmse:0.804035\tVal-rmse:0.824519\n",
      "[744]\tTrain-rmse:0.804017\tVal-rmse:0.824513\n",
      "[745]\tTrain-rmse:0.803961\tVal-rmse:0.82449\n",
      "[746]\tTrain-rmse:0.803921\tVal-rmse:0.824464\n",
      "[747]\tTrain-rmse:0.803858\tVal-rmse:0.824416\n"
     ]
    },
    {
     "name": "stdout",
     "output_type": "stream",
     "text": [
      "[748]\tTrain-rmse:0.80383\tVal-rmse:0.82439\n",
      "[749]\tTrain-rmse:0.803807\tVal-rmse:0.824387\n",
      "[750]\tTrain-rmse:0.803706\tVal-rmse:0.824302\n",
      "[751]\tTrain-rmse:0.803687\tVal-rmse:0.824311\n",
      "[752]\tTrain-rmse:0.803666\tVal-rmse:0.824297\n",
      "[753]\tTrain-rmse:0.803606\tVal-rmse:0.824264\n",
      "[754]\tTrain-rmse:0.80357\tVal-rmse:0.824242\n",
      "[755]\tTrain-rmse:0.803495\tVal-rmse:0.824168\n",
      "[756]\tTrain-rmse:0.803462\tVal-rmse:0.824153\n",
      "[757]\tTrain-rmse:0.803439\tVal-rmse:0.824154\n",
      "[758]\tTrain-rmse:0.803383\tVal-rmse:0.82411\n",
      "[759]\tTrain-rmse:0.803347\tVal-rmse:0.82409\n",
      "[760]\tTrain-rmse:0.803325\tVal-rmse:0.82408\n",
      "[761]\tTrain-rmse:0.803286\tVal-rmse:0.824048\n",
      "[762]\tTrain-rmse:0.803219\tVal-rmse:0.824031\n",
      "[763]\tTrain-rmse:0.803188\tVal-rmse:0.82403\n",
      "[764]\tTrain-rmse:0.803118\tVal-rmse:0.823981\n",
      "[765]\tTrain-rmse:0.803055\tVal-rmse:0.823934\n",
      "[766]\tTrain-rmse:0.803014\tVal-rmse:0.82391\n",
      "[767]\tTrain-rmse:0.802929\tVal-rmse:0.823852\n",
      "[768]\tTrain-rmse:0.802767\tVal-rmse:0.823737\n",
      "[769]\tTrain-rmse:0.802739\tVal-rmse:0.823725\n",
      "[770]\tTrain-rmse:0.802692\tVal-rmse:0.823699\n",
      "[771]\tTrain-rmse:0.802656\tVal-rmse:0.823696\n",
      "[772]\tTrain-rmse:0.802619\tVal-rmse:0.823666\n",
      "[773]\tTrain-rmse:0.802421\tVal-rmse:0.823473\n",
      "[774]\tTrain-rmse:0.80232\tVal-rmse:0.823393\n",
      "[775]\tTrain-rmse:0.802255\tVal-rmse:0.823324\n",
      "[776]\tTrain-rmse:0.802123\tVal-rmse:0.82321\n",
      "[777]\tTrain-rmse:0.802101\tVal-rmse:0.823216\n",
      "[778]\tTrain-rmse:0.80209\tVal-rmse:0.823216\n",
      "[779]\tTrain-rmse:0.802041\tVal-rmse:0.823171\n",
      "[780]\tTrain-rmse:0.801888\tVal-rmse:0.823031\n",
      "[781]\tTrain-rmse:0.801866\tVal-rmse:0.823028\n",
      "[782]\tTrain-rmse:0.801816\tVal-rmse:0.823009\n",
      "[783]\tTrain-rmse:0.801664\tVal-rmse:0.822884\n",
      "[784]\tTrain-rmse:0.801628\tVal-rmse:0.822863\n",
      "[785]\tTrain-rmse:0.801578\tVal-rmse:0.822821\n",
      "[786]\tTrain-rmse:0.801544\tVal-rmse:0.822806\n",
      "[787]\tTrain-rmse:0.801482\tVal-rmse:0.822754\n",
      "[788]\tTrain-rmse:0.801456\tVal-rmse:0.822747\n",
      "[789]\tTrain-rmse:0.801432\tVal-rmse:0.822734\n",
      "[790]\tTrain-rmse:0.801362\tVal-rmse:0.822675\n",
      "[791]\tTrain-rmse:0.801332\tVal-rmse:0.822653\n",
      "[792]\tTrain-rmse:0.801271\tVal-rmse:0.822594\n",
      "[793]\tTrain-rmse:0.801228\tVal-rmse:0.822563\n",
      "[794]\tTrain-rmse:0.801193\tVal-rmse:0.822544\n",
      "[795]\tTrain-rmse:0.801133\tVal-rmse:0.822501\n",
      "[796]\tTrain-rmse:0.801111\tVal-rmse:0.822492\n",
      "[797]\tTrain-rmse:0.80108\tVal-rmse:0.822478\n",
      "[798]\tTrain-rmse:0.801061\tVal-rmse:0.82247\n",
      "[799]\tTrain-rmse:0.801032\tVal-rmse:0.822471\n",
      "[800]\tTrain-rmse:0.80101\tVal-rmse:0.822461\n",
      "[801]\tTrain-rmse:0.800981\tVal-rmse:0.822456\n",
      "[802]\tTrain-rmse:0.800968\tVal-rmse:0.822451\n",
      "[803]\tTrain-rmse:0.800923\tVal-rmse:0.82243\n",
      "[804]\tTrain-rmse:0.80089\tVal-rmse:0.822411\n",
      "[805]\tTrain-rmse:0.800879\tVal-rmse:0.822412\n",
      "[806]\tTrain-rmse:0.80084\tVal-rmse:0.822391\n",
      "[807]\tTrain-rmse:0.800813\tVal-rmse:0.822376\n",
      "[808]\tTrain-rmse:0.800665\tVal-rmse:0.822266\n",
      "[809]\tTrain-rmse:0.800641\tVal-rmse:0.82225\n",
      "[810]\tTrain-rmse:0.800594\tVal-rmse:0.822217\n",
      "[811]\tTrain-rmse:0.800503\tVal-rmse:0.822121\n",
      "[812]\tTrain-rmse:0.800434\tVal-rmse:0.822075\n",
      "[813]\tTrain-rmse:0.800399\tVal-rmse:0.822052\n",
      "[814]\tTrain-rmse:0.80039\tVal-rmse:0.822054\n",
      "[815]\tTrain-rmse:0.800329\tVal-rmse:0.822011\n",
      "[816]\tTrain-rmse:0.800293\tVal-rmse:0.821994\n",
      "[817]\tTrain-rmse:0.800215\tVal-rmse:0.821908\n",
      "[818]\tTrain-rmse:0.800182\tVal-rmse:0.821901\n",
      "[819]\tTrain-rmse:0.80014\tVal-rmse:0.821872\n",
      "[820]\tTrain-rmse:0.800119\tVal-rmse:0.821859\n",
      "[821]\tTrain-rmse:0.799878\tVal-rmse:0.821676\n",
      "[822]\tTrain-rmse:0.799844\tVal-rmse:0.821658\n",
      "[823]\tTrain-rmse:0.799834\tVal-rmse:0.821663\n",
      "[824]\tTrain-rmse:0.799685\tVal-rmse:0.821517\n",
      "[825]\tTrain-rmse:0.799656\tVal-rmse:0.821509\n",
      "[826]\tTrain-rmse:0.79947\tVal-rmse:0.821312\n",
      "[827]\tTrain-rmse:0.799434\tVal-rmse:0.821314\n",
      "[828]\tTrain-rmse:0.799386\tVal-rmse:0.8213\n",
      "[829]\tTrain-rmse:0.799357\tVal-rmse:0.821309\n",
      "[830]\tTrain-rmse:0.799326\tVal-rmse:0.821306\n",
      "[831]\tTrain-rmse:0.799302\tVal-rmse:0.8213\n",
      "[832]\tTrain-rmse:0.799269\tVal-rmse:0.821281\n",
      "[833]\tTrain-rmse:0.799206\tVal-rmse:0.821238\n",
      "[834]\tTrain-rmse:0.799183\tVal-rmse:0.821234\n",
      "[835]\tTrain-rmse:0.799156\tVal-rmse:0.821227\n",
      "[836]\tTrain-rmse:0.799111\tVal-rmse:0.821199\n",
      "[837]\tTrain-rmse:0.799074\tVal-rmse:0.821178\n",
      "[838]\tTrain-rmse:0.799045\tVal-rmse:0.82116\n",
      "[839]\tTrain-rmse:0.79897\tVal-rmse:0.821102\n",
      "[840]\tTrain-rmse:0.798933\tVal-rmse:0.821084\n",
      "[841]\tTrain-rmse:0.798899\tVal-rmse:0.821078\n",
      "[842]\tTrain-rmse:0.798773\tVal-rmse:0.820928\n",
      "[843]\tTrain-rmse:0.798741\tVal-rmse:0.820921\n",
      "[844]\tTrain-rmse:0.79871\tVal-rmse:0.820912\n",
      "[845]\tTrain-rmse:0.798668\tVal-rmse:0.820897\n",
      "[846]\tTrain-rmse:0.798636\tVal-rmse:0.820894\n",
      "[847]\tTrain-rmse:0.798609\tVal-rmse:0.820882\n",
      "[848]\tTrain-rmse:0.798571\tVal-rmse:0.820847\n",
      "[849]\tTrain-rmse:0.79851\tVal-rmse:0.820827\n",
      "[850]\tTrain-rmse:0.798485\tVal-rmse:0.820811\n",
      "[851]\tTrain-rmse:0.798445\tVal-rmse:0.820796\n",
      "[852]\tTrain-rmse:0.798423\tVal-rmse:0.820791\n",
      "[853]\tTrain-rmse:0.798387\tVal-rmse:0.820778\n",
      "[854]\tTrain-rmse:0.798356\tVal-rmse:0.820768\n",
      "[855]\tTrain-rmse:0.79833\tVal-rmse:0.82076\n",
      "[856]\tTrain-rmse:0.798289\tVal-rmse:0.820742\n",
      "[857]\tTrain-rmse:0.79822\tVal-rmse:0.820692\n",
      "[858]\tTrain-rmse:0.798197\tVal-rmse:0.820682\n",
      "[859]\tTrain-rmse:0.79815\tVal-rmse:0.820648\n",
      "[860]\tTrain-rmse:0.798017\tVal-rmse:0.820555\n",
      "[861]\tTrain-rmse:0.797953\tVal-rmse:0.820526\n",
      "[862]\tTrain-rmse:0.797933\tVal-rmse:0.820519\n",
      "[863]\tTrain-rmse:0.797905\tVal-rmse:0.820508\n",
      "[864]\tTrain-rmse:0.797878\tVal-rmse:0.820496\n",
      "[865]\tTrain-rmse:0.797844\tVal-rmse:0.820482\n",
      "[866]\tTrain-rmse:0.797811\tVal-rmse:0.82047\n",
      "[867]\tTrain-rmse:0.797714\tVal-rmse:0.820374\n",
      "[868]\tTrain-rmse:0.797698\tVal-rmse:0.820366\n",
      "[869]\tTrain-rmse:0.797651\tVal-rmse:0.820344\n",
      "[870]\tTrain-rmse:0.797604\tVal-rmse:0.82032\n",
      "[871]\tTrain-rmse:0.797584\tVal-rmse:0.82032\n",
      "[872]\tTrain-rmse:0.797494\tVal-rmse:0.820244\n",
      "[873]\tTrain-rmse:0.79743\tVal-rmse:0.820202\n",
      "[874]\tTrain-rmse:0.797373\tVal-rmse:0.820177\n",
      "[875]\tTrain-rmse:0.797344\tVal-rmse:0.820178\n",
      "[876]\tTrain-rmse:0.797322\tVal-rmse:0.820163\n",
      "[877]\tTrain-rmse:0.797263\tVal-rmse:0.820117\n",
      "[878]\tTrain-rmse:0.797213\tVal-rmse:0.820092\n",
      "[879]\tTrain-rmse:0.797157\tVal-rmse:0.82005\n",
      "[880]\tTrain-rmse:0.797111\tVal-rmse:0.820036\n",
      "[881]\tTrain-rmse:0.796992\tVal-rmse:0.819905\n",
      "[882]\tTrain-rmse:0.796977\tVal-rmse:0.819897\n",
      "[883]\tTrain-rmse:0.796953\tVal-rmse:0.819888\n",
      "[884]\tTrain-rmse:0.796917\tVal-rmse:0.81986\n",
      "[885]\tTrain-rmse:0.796874\tVal-rmse:0.819837\n",
      "[886]\tTrain-rmse:0.796852\tVal-rmse:0.819835\n",
      "[887]\tTrain-rmse:0.796819\tVal-rmse:0.819821\n",
      "[888]\tTrain-rmse:0.796742\tVal-rmse:0.819756\n",
      "[889]\tTrain-rmse:0.796717\tVal-rmse:0.819754\n",
      "[890]\tTrain-rmse:0.796693\tVal-rmse:0.819748\n",
      "[891]\tTrain-rmse:0.79667\tVal-rmse:0.819748\n",
      "[892]\tTrain-rmse:0.796651\tVal-rmse:0.819749\n",
      "[893]\tTrain-rmse:0.796611\tVal-rmse:0.819724\n",
      "[894]\tTrain-rmse:0.796573\tVal-rmse:0.819695\n",
      "[895]\tTrain-rmse:0.796527\tVal-rmse:0.819688\n",
      "[896]\tTrain-rmse:0.79647\tVal-rmse:0.819644\n",
      "[897]\tTrain-rmse:0.796337\tVal-rmse:0.819528\n",
      "[898]\tTrain-rmse:0.796297\tVal-rmse:0.819514\n",
      "[899]\tTrain-rmse:0.796287\tVal-rmse:0.81951\n",
      "[900]\tTrain-rmse:0.796165\tVal-rmse:0.819412\n",
      "[901]\tTrain-rmse:0.79611\tVal-rmse:0.819381\n",
      "[902]\tTrain-rmse:0.796081\tVal-rmse:0.819351\n",
      "[903]\tTrain-rmse:0.79606\tVal-rmse:0.819344\n",
      "[904]\tTrain-rmse:0.796035\tVal-rmse:0.819336\n",
      "[905]\tTrain-rmse:0.795978\tVal-rmse:0.819278\n",
      "[906]\tTrain-rmse:0.795907\tVal-rmse:0.819214\n",
      "[907]\tTrain-rmse:0.795865\tVal-rmse:0.819202\n",
      "[908]\tTrain-rmse:0.795839\tVal-rmse:0.819186\n",
      "[909]\tTrain-rmse:0.795782\tVal-rmse:0.819143\n",
      "[910]\tTrain-rmse:0.795753\tVal-rmse:0.819125\n",
      "[911]\tTrain-rmse:0.795728\tVal-rmse:0.819113\n",
      "[912]\tTrain-rmse:0.795609\tVal-rmse:0.819014\n",
      "[913]\tTrain-rmse:0.795493\tVal-rmse:0.818923\n",
      "[914]\tTrain-rmse:0.795447\tVal-rmse:0.818898\n",
      "[915]\tTrain-rmse:0.795358\tVal-rmse:0.818832\n",
      "[916]\tTrain-rmse:0.795331\tVal-rmse:0.81883\n",
      "[917]\tTrain-rmse:0.795295\tVal-rmse:0.818807\n",
      "[918]\tTrain-rmse:0.795227\tVal-rmse:0.818755\n",
      "[919]\tTrain-rmse:0.795195\tVal-rmse:0.818746\n",
      "[920]\tTrain-rmse:0.795156\tVal-rmse:0.818725\n",
      "[921]\tTrain-rmse:0.79513\tVal-rmse:0.81871\n",
      "[922]\tTrain-rmse:0.795105\tVal-rmse:0.818695\n",
      "[923]\tTrain-rmse:0.795068\tVal-rmse:0.818663\n",
      "[924]\tTrain-rmse:0.795044\tVal-rmse:0.81866\n",
      "[925]\tTrain-rmse:0.795001\tVal-rmse:0.818639\n",
      "[926]\tTrain-rmse:0.79495\tVal-rmse:0.818604\n",
      "[927]\tTrain-rmse:0.794932\tVal-rmse:0.818593\n",
      "[928]\tTrain-rmse:0.794916\tVal-rmse:0.818587\n",
      "[929]\tTrain-rmse:0.794889\tVal-rmse:0.818575\n",
      "[930]\tTrain-rmse:0.794851\tVal-rmse:0.818548\n",
      "[931]\tTrain-rmse:0.794825\tVal-rmse:0.818543\n",
      "[932]\tTrain-rmse:0.794782\tVal-rmse:0.818519\n",
      "[933]\tTrain-rmse:0.794751\tVal-rmse:0.818497\n",
      "[934]\tTrain-rmse:0.794719\tVal-rmse:0.818485\n",
      "[935]\tTrain-rmse:0.794682\tVal-rmse:0.818474\n"
     ]
    },
    {
     "name": "stdout",
     "output_type": "stream",
     "text": [
      "[936]\tTrain-rmse:0.794548\tVal-rmse:0.818357\n",
      "[937]\tTrain-rmse:0.794499\tVal-rmse:0.818328\n",
      "[938]\tTrain-rmse:0.794463\tVal-rmse:0.818305\n",
      "[939]\tTrain-rmse:0.794436\tVal-rmse:0.818291\n",
      "[940]\tTrain-rmse:0.79441\tVal-rmse:0.818279\n",
      "[941]\tTrain-rmse:0.794331\tVal-rmse:0.818219\n",
      "[942]\tTrain-rmse:0.794293\tVal-rmse:0.818199\n",
      "[943]\tTrain-rmse:0.794277\tVal-rmse:0.818197\n",
      "[944]\tTrain-rmse:0.794246\tVal-rmse:0.818206\n",
      "[945]\tTrain-rmse:0.794158\tVal-rmse:0.818131\n",
      "[946]\tTrain-rmse:0.794135\tVal-rmse:0.818124\n",
      "[947]\tTrain-rmse:0.794106\tVal-rmse:0.818126\n",
      "[948]\tTrain-rmse:0.794084\tVal-rmse:0.818128\n",
      "[949]\tTrain-rmse:0.794068\tVal-rmse:0.818122\n",
      "[950]\tTrain-rmse:0.794011\tVal-rmse:0.818086\n",
      "[951]\tTrain-rmse:0.793985\tVal-rmse:0.818083\n",
      "[952]\tTrain-rmse:0.79396\tVal-rmse:0.818078\n",
      "[953]\tTrain-rmse:0.793941\tVal-rmse:0.818073\n",
      "[954]\tTrain-rmse:0.793927\tVal-rmse:0.818069\n",
      "[955]\tTrain-rmse:0.793914\tVal-rmse:0.818062\n",
      "[956]\tTrain-rmse:0.793905\tVal-rmse:0.818059\n",
      "[957]\tTrain-rmse:0.793859\tVal-rmse:0.818031\n",
      "[958]\tTrain-rmse:0.793826\tVal-rmse:0.818009\n",
      "[959]\tTrain-rmse:0.793788\tVal-rmse:0.818\n",
      "[960]\tTrain-rmse:0.793766\tVal-rmse:0.817998\n",
      "[961]\tTrain-rmse:0.793734\tVal-rmse:0.818\n",
      "[962]\tTrain-rmse:0.793707\tVal-rmse:0.817986\n",
      "[963]\tTrain-rmse:0.7937\tVal-rmse:0.817984\n",
      "[964]\tTrain-rmse:0.793679\tVal-rmse:0.817981\n",
      "[965]\tTrain-rmse:0.793634\tVal-rmse:0.817966\n",
      "[966]\tTrain-rmse:0.793603\tVal-rmse:0.817951\n",
      "[967]\tTrain-rmse:0.793563\tVal-rmse:0.817933\n",
      "[968]\tTrain-rmse:0.793508\tVal-rmse:0.817894\n",
      "[969]\tTrain-rmse:0.793479\tVal-rmse:0.817877\n",
      "[970]\tTrain-rmse:0.79346\tVal-rmse:0.81787\n",
      "[971]\tTrain-rmse:0.793428\tVal-rmse:0.817859\n",
      "[972]\tTrain-rmse:0.793387\tVal-rmse:0.817835\n",
      "[973]\tTrain-rmse:0.793349\tVal-rmse:0.817816\n",
      "[974]\tTrain-rmse:0.793268\tVal-rmse:0.817731\n",
      "[975]\tTrain-rmse:0.793198\tVal-rmse:0.817686\n",
      "[976]\tTrain-rmse:0.79318\tVal-rmse:0.817681\n",
      "[977]\tTrain-rmse:0.793155\tVal-rmse:0.817661\n",
      "[978]\tTrain-rmse:0.793134\tVal-rmse:0.817653\n",
      "[979]\tTrain-rmse:0.793115\tVal-rmse:0.817643\n",
      "[980]\tTrain-rmse:0.793065\tVal-rmse:0.817602\n",
      "[981]\tTrain-rmse:0.792964\tVal-rmse:0.817525\n",
      "[982]\tTrain-rmse:0.792907\tVal-rmse:0.817497\n",
      "[983]\tTrain-rmse:0.792873\tVal-rmse:0.817473\n",
      "[984]\tTrain-rmse:0.792833\tVal-rmse:0.817448\n",
      "[985]\tTrain-rmse:0.792804\tVal-rmse:0.817432\n",
      "[986]\tTrain-rmse:0.792755\tVal-rmse:0.817392\n",
      "[987]\tTrain-rmse:0.792654\tVal-rmse:0.8173\n",
      "[988]\tTrain-rmse:0.792631\tVal-rmse:0.817295\n",
      "[989]\tTrain-rmse:0.792599\tVal-rmse:0.817269\n",
      "[990]\tTrain-rmse:0.792567\tVal-rmse:0.817257\n",
      "[991]\tTrain-rmse:0.792491\tVal-rmse:0.817192\n",
      "[992]\tTrain-rmse:0.792434\tVal-rmse:0.817157\n",
      "[993]\tTrain-rmse:0.79239\tVal-rmse:0.817132\n",
      "[994]\tTrain-rmse:0.792355\tVal-rmse:0.817113\n",
      "[995]\tTrain-rmse:0.792332\tVal-rmse:0.817113\n",
      "[996]\tTrain-rmse:0.792274\tVal-rmse:0.817061\n",
      "[997]\tTrain-rmse:0.792251\tVal-rmse:0.817049\n",
      "[998]\tTrain-rmse:0.792245\tVal-rmse:0.817051\n",
      "[999]\tTrain-rmse:0.79219\tVal-rmse:0.817011\n"
     ]
    }
   ],
   "source": [
    "xgb_params = {'booster': 'gbtree',\n",
    "          'eta': .1,\n",
    "          'min_child_weight': 50,\n",
    "          'max_depth': 6,\n",
    "          'objective': 'reg:linear',\n",
    "          'eval_metric': 'rmse',\n",
    "          'silent': False,\n",
    "          'tree_method':'gpu_hist'}\n",
    "\n",
    "model = xgb.train(xgb_params, Train, 1000, [(Train, 'Train'), (Val, 'Val')], early_stopping_rounds=10, verbose_eval=1)"
   ]
  },
  {
   "cell_type": "code",
   "execution_count": 6,
   "metadata": {
    "_uuid": "d31cf0034aeb7dcaca23df636958c54c4cc6d80b"
   },
   "outputs": [],
   "source": [
    "test['item_cnt_month'] = model.predict(Test).clip(0, 20)\n",
    "test[['ID', 'item_cnt_month']].sort_values('ID').to_csv('TryIsTheBestWay.csv', index=False)"
   ]
  },
  {
   "cell_type": "code",
   "execution_count": 12,
   "metadata": {
    "_uuid": "8744c96671cd81308395377452dc2aada93d26b5",
    "scrolled": true
   },
   "outputs": [
    {
     "data": {
      "text/plain": [
       "<matplotlib.axes._subplots.AxesSubplot at 0x17b3b17ed30>"
      ]
     },
     "execution_count": 12,
     "metadata": {},
     "output_type": "execute_result"
    },
    {
     "data": {
      "image/png": "[encoded data removed]",
      "text/plain": [
       "<Figure size 720x1008 with 1 Axes>"
      ]
     },
     "metadata": {
      "needs_background": "light"
     },
     "output_type": "display_data"
    }
   ],
   "source": [
    "from xgboost import plot_importance\n",
    "def plot_features(booster, figsize):    \n",
    "    fig, ax = plt.subplots(1,1,figsize=figsize)\n",
    "    return plot_importance(booster=booster, ax=ax)\n",
    "plot_features(model, (10,14))\n",
    "# xgb.plot_importance(booster=model, max_num_features=40)"
   ]
  },
  {
   "cell_type": "markdown",
   "metadata": {
    "_uuid": "47576727a3314c0715404c25d6094a4b9a8d2c75"
   },
   "source": [
    "# Other method\n",
    "### sklearn Linear Regression"
   ]
  },
  {
   "cell_type": "code",
   "execution_count": null,
   "metadata": {},
   "outputs": [],
   "source": [
    "from sklearn import linear_model\n",
    "ts = time.time()\n",
    "clf = linear_model.Ridge(alpha=.5)\n",
    "clf.fit(X_train, Y_train)\n",
    "time.time() - ts\n",
    "Y_pred = clf.predict(X_valid).clip(0, 20)\n",
    "Y_test = clf.predict(X_test).clip(0, 20)\n",
    "\n",
    "submission = pd.DataFrame({\n",
    "    \"ID\": test.index, \n",
    "    \"item_cnt_month\": Y_test\n",
    "})\n",
    "submission.to_csv('LinearRegression_submission.csv', index=False)"
   ]
  },
  {
   "cell_type": "markdown",
   "metadata": {},
   "source": [
    "### Split trainind data and ensemble two xgboost model"
   ]
  },
  {
   "cell_type": "code",
   "execution_count": null,
   "metadata": {},
   "outputs": [],
   "source": [
    "X_train1 = X_train[X_train.shop_id < 30]\n",
    "Y_train1 = Y_train[X_train.shop_id < 30]\n",
    "X_valid1 = X_valid[X_valid.shop_id < 30]\n",
    "Y_valid1 = Y_valid[X_valid.shop_id < 30]\n",
    "\n",
    "X_train2 = X_train[X_train.shop_id >= 30]\n",
    "Y_train2 = Y_train[X_train.shop_id >= 30]\n",
    "X_valid2 = X_valid[X_valid.shop_id >= 30]\n",
    "Y_valid2 = Y_valid[X_valid.shop_id >= 30]\n",
    "\n",
    "models = []\n",
    "for i in range(2):\n",
    "    if i == 0:\n",
    "        xtrain = X_train1\n",
    "        ytrain = Y_train1\n",
    "        xval = X_valid1\n",
    "        yval = Y_valid1\n",
    "    else:\n",
    "        xtrain = X_train2\n",
    "        ytrain = Y_train2\n",
    "        xval = X_valid2\n",
    "        yval = Y_valid2\n",
    "    \n",
    "    model = XGBRegressor(\n",
    "        max_depth=8,\n",
    "        n_estimators=1000,\n",
    "        min_child_weight=300, \n",
    "        colsample_bytree=0.8, \n",
    "        subsample=0.8,\n",
    "        eta=0.3,    \n",
    "        seed=42)\n",
    "\n",
    "    model.fit(\n",
    "        xtrain, \n",
    "        ytrain, \n",
    "        eval_metric=\"rmse\", \n",
    "        eval_set=[(xtrain, ytrain), (xval, yval)], \n",
    "        verbose=True, \n",
    "        early_stopping_rounds = 10)\n",
    "    models.append(model)\n",
    "\n",
    "X_test1 = X_test[X_test.shop_id < 30]\n",
    "X_test2 = X_test[X_test.shop_id >= 30]\n",
    "Y_test1 = models[0].predict(X_test1).clip(0, 20)\n",
    "Y_test2 = models[1].predict(X_test2).clip(0, 20)\n",
    "Y_test = np.concatenate((Y_test1, Y_test2))\n",
    "\n",
    "submission = pd.DataFrame({\n",
    "    \"ID\": test.index, \n",
    "    \"item_cnt_month\": Y_test\n",
    "})\n",
    "submission.to_csv('LinearRegression_submission.csv', index=False)"
   ]
  },
  {
   "cell_type": "markdown",
   "metadata": {},
   "source": [
    "### Mxnet lstm model"
   ]
  },
  {
   "cell_type": "code",
   "execution_count": null,
   "metadata": {},
   "outputs": [],
   "source": [
    "class LSTM(nn.HybridBlock):\n",
    "    def __init__(self):\n",
    "        super(LSTM, self).__init__()\n",
    "        self.model = nn.HybridSequential()\n",
    "        with self.model.name_scope():\n",
    "            self.model.add(\n",
    "                mx.gluon.rnn.LSTM(256),\n",
    "                nn.Dropout(0.2),\n",
    "                mx.gluon.rnn.LSTM(512),\n",
    "                nn.Dropout(0.2),\n",
    "                mx.gluon.rnn.LSTM(1024),\n",
    "                nn.Dense(1)\n",
    "            )\n",
    "    def hybrid_forward(self, F, x, *args, **kwargs):\n",
    "        return self.model(x)"
   ]
  },
  {
   "cell_type": "markdown",
   "metadata": {},
   "source": [
    "### Mxnet cnn model"
   ]
  },
  {
   "cell_type": "code",
   "execution_count": null,
   "metadata": {},
   "outputs": [],
   "source": [
    "def conv_block(channel, kernel=1, stride=1, pad=0):\n",
    "    blc = nn.HybridSequential()\n",
    "    blc.add(\n",
    "        nn.Conv1D(channel, kernel_size=kernel, strides=1, padding=pad),\n",
    "        nn.BatchNorm(),\n",
    "        nn.Activation('relu')\n",
    "    )\n",
    "    return blc\n",
    "\n",
    "class CNN(nn.HybridBlock):\n",
    "    def __init__(self):\n",
    "        super(CNN, self).__init__()\n",
    "        self.model = nn.HybridSequential()\n",
    "        with self.model.name_scope():\n",
    "            self.model.add(\n",
    "                conv_block(64),\n",
    "                nn.Flatten(),\n",
    "                nn.Dense(10, activation='relu'),\n",
    "                nn.Dense(1)\n",
    "            )\n",
    "    def hybrid_forward(self, F, x, *args, **kwargs):\n",
    "        return self.model(x)"
   ]
  },
  {
   "attachments": {
    "Ensemble_First_FeatureImportrance_OriDataIn.PNG": {
     "image/png": "[encoded data removed]"
    }
   },
   "cell_type": "markdown",
   "metadata": {},
   "source": [
    "### Complement the training data according to feature importance![Ensemble_First_FeatureImportrance_OriDataIn.PNG](attachment:Ensemble_First_FeatureImportrance_OriDataIn.PNG)"
   ]
  },
  {
   "cell_type": "code",
   "execution_count": null,
   "metadata": {},
   "outputs": [],
   "source": [
    "group = matrix.groupby(['date_block_num', 'item_id']).agg({'item_cnt_month': ['mean']})\n",
    "group.columns = [ 'date_item_avg_item_cnt' ]\n",
    "group.reset_index(inplace=True)\n",
    "matrix = pd.merge(matrix, group, on=['date_block_num','item_id'], how='left')\n",
    "matrix['date_item_avg_item_cnt'] = matrix['date_item_avg_item_cnt'].astype(np.float16)\n",
    "matrix = lag_feature(matrix, [1,2,3,4,5,6,12], 'date_item_avg_item_cnt')\n",
    "matrix.drop(['date_item_avg_item_cnt'], axis=1, inplace=True)"
   ]
  }
 ],
 "metadata": {
  "kernelspec": {
   "display_name": "Python 3",
   "language": "python",
   "name": "python3"
  },
  "language_info": {
   "codemirror_mode": {
    "name": "ipython",
    "version": 3
   },
   "file_extension": ".py",
   "mimetype": "text/x-python",
   "name": "python",
   "nbconvert_exporter": "python",
   "pygments_lexer": "ipython3",
   "version": "3.6.8"
  }
 },
 "nbformat": 4,
 "nbformat_minor": 1
}
